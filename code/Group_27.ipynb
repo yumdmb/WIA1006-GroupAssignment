{
  "cells": [
    {
      "attachments": {},
      "cell_type": "markdown",
      "metadata": {
        "id": "WTJp9I2qfujN"
      },
      "source": [
        "# Import Section"
      ]
    },
    {
      "cell_type": "code",
      "execution_count": 15,
      "metadata": {
        "id": "1SEgFx6ifm5N"
      },
      "outputs": [],
      "source": [
        "import numpy as np\n",
        "import pandas as pd\n",
        "import seaborn as sns\n",
        "import matplotlib.pyplot as plt\n",
        "from sklearn.feature_selection import SelectKBest\n",
        "from sklearn.feature_selection import chi2\n",
        "from sklearn.ensemble import ExtraTreesClassifier\n",
        "from sklearn.preprocessing import StandardScaler\n",
        "from sklearn.model_selection import train_test_split\n",
        "from sklearn.metrics import classification_report"
      ]
    },
    {
      "attachments": {},
      "cell_type": "markdown",
      "metadata": {
        "id": "ccu2hIntf3zI"
      },
      "source": [
        "# Data Set\n",
        "https://archive.ics.uci.edu/ml/datasets/Estimation+of+obesity+levels+based+on+eating+habits+and+physical+condition+\n",
        "\n",
        "**Data Set Information**:\n",
        "\n",
        "This dataset include data for the estimation of obesity levels in individuals from the countries of Mexico, Peru and Colombia, based on their eating habits and physical condition. The data contains 17 attributes and 2111 records, the records are labeled with the class variable NObesity (Obesity Level), that allows classification of the data using the values of Insufficient Weight, Normal Weight, Overweight Level I, Overweight Level II, Obesity Type I, Obesity Type II and Obesity Type III. 77% of the data was generated synthetically using the Weka tool and the SMOTE filter, 23% of the data was collected directly from users through a web platform.\n",
        "\n",
        "\n",
        "\n",
        "**Palechor, F. M., & de la Hoz Manotas, A. (2019). Dataset for estimation of obesity levels based on eating habits and physical condition in individuals from Colombia, Peru and Mexico. Data in Brief, 104344.**"
      ]
    },
    {
      "cell_type": "code",
      "execution_count": 16,
      "metadata": {
        "colab": {
          "base_uri": "https://localhost:8080/",
          "height": 435
        },
        "id": "9jnEU3ycgRjB",
        "outputId": "ac64195e-657f-4b0c-c189-4bba44f3c483"
      },
      "outputs": [
        {
          "data": {
            "text/html": [
              "<div>\n",
              "<style scoped>\n",
              "    .dataframe tbody tr th:only-of-type {\n",
              "        vertical-align: middle;\n",
              "    }\n",
              "\n",
              "    .dataframe tbody tr th {\n",
              "        vertical-align: top;\n",
              "    }\n",
              "\n",
              "    .dataframe thead th {\n",
              "        text-align: right;\n",
              "    }\n",
              "</style>\n",
              "<table border=\"1\" class=\"dataframe\">\n",
              "  <thead>\n",
              "    <tr style=\"text-align: right;\">\n",
              "      <th></th>\n",
              "      <th>gender</th>\n",
              "      <th>age</th>\n",
              "      <th>height</th>\n",
              "      <th>weight</th>\n",
              "      <th>family_history</th>\n",
              "      <th>FAVC</th>\n",
              "      <th>FCVC</th>\n",
              "      <th>NCP</th>\n",
              "      <th>CAEC</th>\n",
              "      <th>SMOKE</th>\n",
              "      <th>CH2O</th>\n",
              "      <th>SCC</th>\n",
              "      <th>FAF</th>\n",
              "      <th>TUE</th>\n",
              "      <th>CALC</th>\n",
              "      <th>MTRANS</th>\n",
              "      <th>NObeyesdad</th>\n",
              "    </tr>\n",
              "  </thead>\n",
              "  <tbody>\n",
              "    <tr>\n",
              "      <th>0</th>\n",
              "      <td>Gender</td>\n",
              "      <td>Age</td>\n",
              "      <td>Height</td>\n",
              "      <td>Weight</td>\n",
              "      <td>family_history_with_overweight</td>\n",
              "      <td>FAVC</td>\n",
              "      <td>FCVC</td>\n",
              "      <td>NCP</td>\n",
              "      <td>CAEC</td>\n",
              "      <td>SMOKE</td>\n",
              "      <td>CH2O</td>\n",
              "      <td>SCC</td>\n",
              "      <td>FAF</td>\n",
              "      <td>TUE</td>\n",
              "      <td>CALC</td>\n",
              "      <td>MTRANS</td>\n",
              "      <td>NObeyesdad</td>\n",
              "    </tr>\n",
              "    <tr>\n",
              "      <th>1</th>\n",
              "      <td>0</td>\n",
              "      <td>21</td>\n",
              "      <td>162</td>\n",
              "      <td>64</td>\n",
              "      <td>1</td>\n",
              "      <td>0</td>\n",
              "      <td>2</td>\n",
              "      <td>3</td>\n",
              "      <td>1</td>\n",
              "      <td>0</td>\n",
              "      <td>2</td>\n",
              "      <td>0</td>\n",
              "      <td>0</td>\n",
              "      <td>1</td>\n",
              "      <td>0</td>\n",
              "      <td>2</td>\n",
              "      <td>1</td>\n",
              "    </tr>\n",
              "    <tr>\n",
              "      <th>2</th>\n",
              "      <td>0</td>\n",
              "      <td>21</td>\n",
              "      <td>152</td>\n",
              "      <td>56</td>\n",
              "      <td>1</td>\n",
              "      <td>0</td>\n",
              "      <td>3</td>\n",
              "      <td>3</td>\n",
              "      <td>1</td>\n",
              "      <td>1</td>\n",
              "      <td>3</td>\n",
              "      <td>1</td>\n",
              "      <td>3</td>\n",
              "      <td>0</td>\n",
              "      <td>1</td>\n",
              "      <td>2</td>\n",
              "      <td>1</td>\n",
              "    </tr>\n",
              "    <tr>\n",
              "      <th>3</th>\n",
              "      <td>1</td>\n",
              "      <td>23</td>\n",
              "      <td>180</td>\n",
              "      <td>77</td>\n",
              "      <td>1</td>\n",
              "      <td>0</td>\n",
              "      <td>2</td>\n",
              "      <td>3</td>\n",
              "      <td>1</td>\n",
              "      <td>0</td>\n",
              "      <td>2</td>\n",
              "      <td>0</td>\n",
              "      <td>2</td>\n",
              "      <td>1</td>\n",
              "      <td>2</td>\n",
              "      <td>2</td>\n",
              "      <td>1</td>\n",
              "    </tr>\n",
              "    <tr>\n",
              "      <th>4</th>\n",
              "      <td>1</td>\n",
              "      <td>27</td>\n",
              "      <td>180</td>\n",
              "      <td>87</td>\n",
              "      <td>0</td>\n",
              "      <td>0</td>\n",
              "      <td>3</td>\n",
              "      <td>3</td>\n",
              "      <td>1</td>\n",
              "      <td>0</td>\n",
              "      <td>2</td>\n",
              "      <td>0</td>\n",
              "      <td>2</td>\n",
              "      <td>0</td>\n",
              "      <td>2</td>\n",
              "      <td>4</td>\n",
              "      <td>2</td>\n",
              "    </tr>\n",
              "    <tr>\n",
              "      <th>...</th>\n",
              "      <td>...</td>\n",
              "      <td>...</td>\n",
              "      <td>...</td>\n",
              "      <td>...</td>\n",
              "      <td>...</td>\n",
              "      <td>...</td>\n",
              "      <td>...</td>\n",
              "      <td>...</td>\n",
              "      <td>...</td>\n",
              "      <td>...</td>\n",
              "      <td>...</td>\n",
              "      <td>...</td>\n",
              "      <td>...</td>\n",
              "      <td>...</td>\n",
              "      <td>...</td>\n",
              "      <td>...</td>\n",
              "      <td>...</td>\n",
              "    </tr>\n",
              "    <tr>\n",
              "      <th>2107</th>\n",
              "      <td>0</td>\n",
              "      <td>21</td>\n",
              "      <td>171</td>\n",
              "      <td>131</td>\n",
              "      <td>1</td>\n",
              "      <td>1</td>\n",
              "      <td>3</td>\n",
              "      <td>3</td>\n",
              "      <td>1</td>\n",
              "      <td>0</td>\n",
              "      <td>2</td>\n",
              "      <td>0</td>\n",
              "      <td>2</td>\n",
              "      <td>1</td>\n",
              "      <td>1</td>\n",
              "      <td>2</td>\n",
              "      <td>6</td>\n",
              "    </tr>\n",
              "    <tr>\n",
              "      <th>2108</th>\n",
              "      <td>0</td>\n",
              "      <td>22</td>\n",
              "      <td>175</td>\n",
              "      <td>134</td>\n",
              "      <td>1</td>\n",
              "      <td>1</td>\n",
              "      <td>3</td>\n",
              "      <td>3</td>\n",
              "      <td>1</td>\n",
              "      <td>0</td>\n",
              "      <td>2</td>\n",
              "      <td>0</td>\n",
              "      <td>1</td>\n",
              "      <td>1</td>\n",
              "      <td>1</td>\n",
              "      <td>2</td>\n",
              "      <td>6</td>\n",
              "    </tr>\n",
              "    <tr>\n",
              "      <th>2109</th>\n",
              "      <td>0</td>\n",
              "      <td>23</td>\n",
              "      <td>175</td>\n",
              "      <td>134</td>\n",
              "      <td>1</td>\n",
              "      <td>1</td>\n",
              "      <td>3</td>\n",
              "      <td>3</td>\n",
              "      <td>1</td>\n",
              "      <td>0</td>\n",
              "      <td>2</td>\n",
              "      <td>0</td>\n",
              "      <td>1</td>\n",
              "      <td>1</td>\n",
              "      <td>1</td>\n",
              "      <td>2</td>\n",
              "      <td>6</td>\n",
              "    </tr>\n",
              "    <tr>\n",
              "      <th>2110</th>\n",
              "      <td>0</td>\n",
              "      <td>24</td>\n",
              "      <td>174</td>\n",
              "      <td>133</td>\n",
              "      <td>1</td>\n",
              "      <td>1</td>\n",
              "      <td>3</td>\n",
              "      <td>3</td>\n",
              "      <td>1</td>\n",
              "      <td>0</td>\n",
              "      <td>3</td>\n",
              "      <td>0</td>\n",
              "      <td>1</td>\n",
              "      <td>1</td>\n",
              "      <td>1</td>\n",
              "      <td>2</td>\n",
              "      <td>6</td>\n",
              "    </tr>\n",
              "    <tr>\n",
              "      <th>2111</th>\n",
              "      <td>0</td>\n",
              "      <td>24</td>\n",
              "      <td>174</td>\n",
              "      <td>133</td>\n",
              "      <td>1</td>\n",
              "      <td>1</td>\n",
              "      <td>3</td>\n",
              "      <td>3</td>\n",
              "      <td>1</td>\n",
              "      <td>0</td>\n",
              "      <td>3</td>\n",
              "      <td>0</td>\n",
              "      <td>1</td>\n",
              "      <td>1</td>\n",
              "      <td>1</td>\n",
              "      <td>2</td>\n",
              "      <td>6</td>\n",
              "    </tr>\n",
              "  </tbody>\n",
              "</table>\n",
              "<p>2112 rows × 17 columns</p>\n",
              "</div>"
            ],
            "text/plain": [
              "      gender  age  height  weight                  family_history  FAVC  FCVC   \n",
              "0     Gender  Age  Height  Weight  family_history_with_overweight  FAVC  FCVC  \\\n",
              "1          0   21     162      64                               1     0     2   \n",
              "2          0   21     152      56                               1     0     3   \n",
              "3          1   23     180      77                               1     0     2   \n",
              "4          1   27     180      87                               0     0     3   \n",
              "...      ...  ...     ...     ...                             ...   ...   ...   \n",
              "2107       0   21     171     131                               1     1     3   \n",
              "2108       0   22     175     134                               1     1     3   \n",
              "2109       0   23     175     134                               1     1     3   \n",
              "2110       0   24     174     133                               1     1     3   \n",
              "2111       0   24     174     133                               1     1     3   \n",
              "\n",
              "      NCP  CAEC  SMOKE  CH2O  SCC  FAF  TUE  CALC  MTRANS  NObeyesdad  \n",
              "0     NCP  CAEC  SMOKE  CH2O  SCC  FAF  TUE  CALC  MTRANS  NObeyesdad  \n",
              "1       3     1      0     2    0    0    1     0       2           1  \n",
              "2       3     1      1     3    1    3    0     1       2           1  \n",
              "3       3     1      0     2    0    2    1     2       2           1  \n",
              "4       3     1      0     2    0    2    0     2       4           2  \n",
              "...   ...   ...    ...   ...  ...  ...  ...   ...     ...         ...  \n",
              "2107    3     1      0     2    0    2    1     1       2           6  \n",
              "2108    3     1      0     2    0    1    1     1       2           6  \n",
              "2109    3     1      0     2    0    1    1     1       2           6  \n",
              "2110    3     1      0     3    0    1    1     1       2           6  \n",
              "2111    3     1      0     3    0    1    1     1       2           6  \n",
              "\n",
              "[2112 rows x 17 columns]"
            ]
          },
          "execution_count": 16,
          "metadata": {},
          "output_type": "execute_result"
        }
      ],
      "source": [
        "cols=[\"gender\",\"age\",\"height\",\"weight\",\"family_history\",\"FAVC\",\"FCVC\",\"NCP\",\"CAEC\",\"SMOKE\",\"CH2O\",\"SCC\",\"FAF\",\"TUE\",\"CALC\",\"MTRANS\",\"NObeyesdad\"]\n",
        "df = pd.read_csv(\"../datasets/ObesityDataSet_Fixed.csv\", names=cols)\n",
        "df.replace({'gender': {'Male': 1, 'Female': 0},\n",
        "           'family_history': {'yes': 1, 'no': 0},\n",
        "           'FAVC': {'yes': 1, 'no': 0},\n",
        "           'CAEC': {'Always': 3, 'Frequently': 2, \"Sometimes\": 1,'no':0},\n",
        "           'SMOKE': {'yes': 1, 'no': 0},\n",
        "           'SCC': {'yes': 1, 'no': 0},\n",
        "           'CALC': {'Always':3, 'Frequently': 2, 'Sometimes': 1,'no': 0},\n",
        "           'MTRANS': {'Walking': 4,'Bike': 3, 'Public_Transportation': 2,'Motorbike': 1, 'Automobile': 0},\n",
        "           'NObeyesdad': {'Obesity_Type_III': 6,'Obesity_Type_II': 5,'Obesity_Type_I': 4, 'Overweight_Level_II': 3,'Overweight_Level_I': 2, 'Normal_Weight': 1,'Insufficient_Weight': 0}\n",
        "          }, inplace=True)\n",
        "                     \n",
        "df.describe()\n",
        "df\n"
      ]
    },
    {
      "attachments": {},
      "cell_type": "markdown",
      "metadata": {
        "id": "FGwWSzTFl6eA"
      },
      "source": [
        "# Train/test Data set"
      ]
    },
    {
      "cell_type": "code",
      "execution_count": 17,
      "metadata": {
        "id": "sAmOEHw9ndYL"
      },
      "outputs": [],
      "source": [
        "X_features =[\"gender\",\"age\",\"height\",\"weight\",\"family_history\",\"FAVC\",\"FCVC\",\"NCP\",\"CAEC\",\"SMOKE\",\"CH2O\",\"SCC\",\"FAF\",\"TUE\",\"CALC\",\"MTRANS\" ]\n",
        "x_i=df.iloc[1:, 0:16].values.astype(int)\n",
        "y_i=df.iloc[1:, 16].values.astype(int)"
      ]
    },
    {
      "attachments": {},
      "cell_type": "markdown",
      "metadata": {
        "id": "ZKSd6HwUB8BD"
      },
      "source": [
        "# Feature Scaling\n",
        "the data so the data will be normalized the range\n",
        "we do this because the range in each features is different"
      ]
    },
    {
      "cell_type": "code",
      "execution_count": 18,
      "metadata": {
        "colab": {
          "base_uri": "https://localhost:8080/"
        },
        "id": "CQ2Q83QYCBi8",
        "outputId": "2af0952a-93e8-4f88-ef30-4dc6e48b1461"
      },
      "outputs": [
        {
          "name": "stdout",
          "output_type": "stream",
          "text": [
            "Peak to Peak range by column in Raw        X:[  1  47  53 134   1   1   2   3   3   1   2   1   3   2   3   4]\n",
            "Peak to Peak range by column in Normalized X:[2.00014026 7.39508553 5.67778357 5.1178436  2.58962854 3.12211842\n",
            " 3.42602498 3.70604574 6.40433817 6.99989711 2.90506497 4.79971103\n",
            " 3.35102068 2.96802451 5.82099335 4.37793121]\n"
          ]
        }
      ],
      "source": [
        "scaler = StandardScaler()\n",
        "X = scaler.fit_transform(x_i)\n",
        "print(f\"Peak to Peak range by column in Raw        X:{np.ptp(x_i,axis=0)}\")   \n",
        "print(f\"Peak to Peak range by column in Normalized X:{np.ptp(X,axis=0)}\")"
      ]
    },
    {
      "cell_type": "code",
      "execution_count": 19,
      "metadata": {
        "id": "9srz0funCMOW"
      },
      "outputs": [],
      "source": [
        "X_train, X_test, y_train, y_test = train_test_split(X,y_i, test_size=0.3, random_state=42)"
      ]
    },
    {
      "attachments": {},
      "cell_type": "markdown",
      "metadata": {
        "id": "HM2S1h5TSjzZ"
      },
      "source": [
        "# Find the insignificant features"
      ]
    },
    {
      "attachments": {},
      "cell_type": "markdown",
      "metadata": {
        "id": "BsQOGxhmSk4D"
      },
      "source": [
        "**1st Method (Select KBest)**"
      ]
    },
    {
      "cell_type": "code",
      "execution_count": 20,
      "metadata": {
        "colab": {
          "base_uri": "https://localhost:8080/"
        },
        "id": "pjj8K2kUDiyQ",
        "outputId": "1e76cfe5-db27-4b65-9c6c-b48be437bd64"
      },
      "outputs": [
        {
          "name": "stdout",
          "output_type": "stream",
          "text": [
            "          Features         Score\n",
            "3           weight  14184.241742\n",
            "1              age    639.181914\n",
            "0           gender    324.978359\n",
            "11             SCC    117.429254\n",
            "4   family_history    113.435378\n",
            "2           height    106.945709\n",
            "12             FAF     78.578007\n",
            "15          MTRANS     77.233671\n",
            "8             CAEC     76.273289\n",
            "14            CALC     67.677522\n",
            "6             FCVC     61.169145\n",
            "7              NCP     34.629411\n",
            "9            SMOKE     31.467977\n",
            "13             TUE     30.969041\n",
            "5             FAVC     27.081298\n",
            "10            CH2O     23.809716\n"
          ]
        }
      ],
      "source": [
        "bestfeatures = SelectKBest(score_func=chi2, k=16)\n",
        "fit = bestfeatures.fit(x_i, y_i)\n",
        "dfscores = pd.DataFrame(fit.scores_)\n",
        "dfcolumns = pd.DataFrame(X_features)\n",
        "featureScores = pd.concat([dfcolumns, dfscores], axis=1)\n",
        "featureScores.columns = ['Features', 'Score']\n",
        "print(featureScores.nlargest(16, 'Score'))"
      ]
    },
    {
      "attachments": {},
      "cell_type": "markdown",
      "metadata": {
        "id": "f-qnHluSSo8m"
      },
      "source": [
        "**2nd method (ExtraTressClassifier)**"
      ]
    },
    {
      "cell_type": "code",
      "execution_count": 21,
      "metadata": {
        "colab": {
          "base_uri": "https://localhost:8080/",
          "height": 482
        },
        "id": "Gb-jvVokQSS4",
        "outputId": "51b71016-84a2-46a6-c53b-015c6c609651"
      },
      "outputs": [
        {
          "name": "stdout",
          "output_type": "stream",
          "text": [
            "[0.08135298 0.08841655 0.08639981 0.2943658  0.04759432 0.02617049\n",
            " 0.05341679 0.05193087 0.03997244 0.00458019 0.03695339 0.0132829\n",
            " 0.04017556 0.03808709 0.0553638  0.04193701]\n"
          ]
        },
        {
          "data": {
            "image/png": "[encoded data removed]",
            "text/plain": [
              "<Figure size 640x480 with 1 Axes>"
            ]
          },
          "metadata": {},
          "output_type": "display_data"
        }
      ],
      "source": [
        "model = ExtraTreesClassifier()\n",
        "model.fit(x_i,y_i)\n",
        "print(model.feature_importances_) #use inbuilt class feature_importances of tree based classifiers\n",
        "#plot graph of feature importances for better visualization\n",
        "feat_importances = pd.Series(model.feature_importances_, index=X_features)\n",
        "feat_importances.nlargest(16).plot(kind='barh')\n",
        "plt.show()\n"
      ]
    },
    {
      "attachments": {},
      "cell_type": "markdown",
      "metadata": {},
      "source": [
        "# SVM(version 1.0)"
      ]
    },
    {
      "cell_type": "code",
      "execution_count": 22,
      "metadata": {},
      "outputs": [],
      "source": [
        "\n",
        "from sklearn import svm\n",
        "\n",
        "clf = svm.SVC(kernel='linear') # Linear kernel\n",
        "\n",
        "clf.fit(X_train,y_train)\n",
        "\n",
        "y_pred=clf.predict(X_test)"
      ]
    },
    {
      "cell_type": "code",
      "execution_count": 23,
      "metadata": {},
      "outputs": [
        {
          "name": "stdout",
          "output_type": "stream",
          "text": [
            "Accuracy 0.9479495268138801\n",
            "              precision    recall  f1-score   support\n",
            "\n",
            "           0       0.90      1.00      0.95        86\n",
            "           1       0.99      0.83      0.90        93\n",
            "           2       0.86      0.94      0.90        88\n",
            "           3       0.94      0.91      0.92        79\n",
            "           4       1.00      0.96      0.98       102\n",
            "           5       0.96      1.00      0.98        88\n",
            "           6       1.00      0.99      0.99        98\n",
            "\n",
            "    accuracy                           0.95       634\n",
            "   macro avg       0.95      0.95      0.95       634\n",
            "weighted avg       0.95      0.95      0.95       634\n",
            "\n"
          ]
        }
      ],
      "source": [
        "# import scikit-learn metrics modue for accuracy calculation\n",
        "from sklearn import metrics\n",
        "from sklearn.metrics import r2_score\n",
        "\n",
        "\n",
        "# Model Accuracy : how often is the classifier correct?\n",
        "print(\"Accuracy\",metrics.accuracy_score(y_test,y_pred))\n",
        "print(classification_report(y_test, y_pred))"
      ]
    },
    {
      "attachments": {},
      "cell_type": "markdown",
      "metadata": {
        "id": "u2lLE02-P4sk"
      },
      "source": [
        "# Logistic Regression "
      ]
    },
    {
      "cell_type": "code",
      "execution_count": 24,
      "metadata": {
        "id": "4W_wWPWVLNHZ"
      },
      "outputs": [],
      "source": [
        "from sklearn.linear_model import LogisticRegression"
      ]
    },
    {
      "cell_type": "code",
      "execution_count": 25,
      "metadata": {
        "id": "nli3jF5dLPP-"
      },
      "outputs": [],
      "source": [
        "# lg_model = LogisticRegression(max_iter=1000)  # Increase the number of iterations to 1000\n",
        "# lg_model = lg_model.fit(X_train, y_train)"
      ]
    },
    {
      "cell_type": "code",
      "execution_count": 26,
      "metadata": {
        "colab": {
          "base_uri": "https://localhost:8080/"
        },
        "id": "-bsSO4bKLQ-N",
        "outputId": "f5143879-8585-44f6-94a8-6127c1e9ec38"
      },
      "outputs": [],
      "source": [
        "# y_pred = lg_model.predict(X_test)\n",
        "# print(classification_report(y_test, y_pred))"
      ]
    },
    {
      "attachments": {},
      "cell_type": "markdown",
      "metadata": {
        "id": "s2Kby38wOe2Z"
      },
      "source": [
        "*  Obesity_Type_III    = 6\n",
        "*  Obesity_Type_II     = 5\n",
        "*  Obesity_Type_I      = 4\n",
        "*  Overweight_Level_II = 3\n",
        "*  Overweight_Level_I  = 2\n",
        "*  Normal_Weight       = 1\n",
        "*  Insufficient_Weight = 0"
      ]
    },
    {
      "cell_type": "code",
      "execution_count": null,
      "metadata": {
        "id": "Cd2Sz8TSOkq2"
      },
      "outputs": [],
      "source": []
    }
  ],
  "metadata": {
    "colab": {
      "provenance": [],
      "toc_visible": true
    },
    "kernelspec": {
      "display_name": "Python 3",
      "name": "python3"
    },
    "language_info": {
      "codemirror_mode": {
        "name": "ipython",
        "version": 3
      },
      "file_extension": ".py",
      "mimetype": "text/x-python",
      "name": "python",
      "nbconvert_exporter": "python",
      "pygments_lexer": "ipython3",
      "version": "3.11.3"
    }
  },
  "nbformat": 4,
  "nbformat_minor": 0
}
