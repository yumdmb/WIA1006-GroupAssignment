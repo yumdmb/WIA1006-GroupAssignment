{
  "nbformat": 4,
  "nbformat_minor": 0,
  "metadata": {
    "colab": {
      "provenance": [],
      "toc_visible": true
    },
    "kernelspec": {
      "name": "python3",
      "display_name": "Python 3"
    },
    "language_info": {
      "name": "python"
    }
  },
  "cells": [
    {
      "cell_type": "markdown",
      "source": [
        "# Import Section"
      ],
      "metadata": {
        "id": "SDRN8ihmjUTQ"
      }
    },
    {
      "cell_type": "code",
      "execution_count": null,
      "metadata": {
        "id": "DQ9Op_BrjM81"
      },
      "outputs": [],
      "source": [
        "import numpy as np\n",
        "import pandas as pd\n",
        "import matplotlib.pyplot as plt\n",
        "from sklearn.feature_selection import SelectKBest\n",
        "from sklearn.feature_selection import chi2\n",
        "from sklearn.ensemble import ExtraTreesClassifier\n",
        "from sklearn.linear_model import SGDRegressor\n",
        "from sklearn.preprocessing import StandardScaler\n",
        "from sklearn.linear_model import LinearRegression\n",
        "from sklearn.metrics import mean_squared_error\n",
        "from sklearn.metrics import r2_score\n",
        "from sklearn.model_selection import train_test_split\n",
        "from sklearn.metrics import r2_score\n",
        "from sklearn.metrics import mean_squared_error\n",
        "from tabulate import tabulate\n",
        "from sklearn.preprocessing import PolynomialFeatures\n",
        "np.set_printoptions(precision=2)\n",
        "from sklearn.linear_model import SGDRegressor\n",
        "from sklearn.linear_model import Ridge\n",
        "from sklearn.linear_model import Lasso"
      ]
    },
    {
      "cell_type": "markdown",
      "source": [
        "# Dataset:Medical Cost Personal\n",
        "https://www.kaggle.com/datasets/mirichoi0218/insurance\n",
        "\n",
        "*   ***About Dataset***\n",
        "Context\n",
        "Machine Learning with R by Brett Lantz is a book that provides an introduction to machine learning using R. The publisher, Packt Publishing does not make its datasets available online compared to the ones in the books they have published. All of these datasets are in the public domain but simply needed some cleaning up and recoding to match the format in the book.\n",
        "\n",
        "**age**: age of primary beneficiary\n",
        "\n",
        "**sex**: insurance contractor gender, female, male\n",
        "\n",
        "**bmi**: Body mass index, providing an understanding of body, weights that are relatively high or low relative to height,\n",
        "objective index of body weight (kg / m ^ 2) using the ratio of height to weight, ideally 18.5 to 24.9\n",
        "\n",
        "**children**: Number of children covered by health insurance / Number of dependents\n",
        "\n",
        "**smoker**: Smoking\n",
        "\n",
        "**region**: the beneficiary's residential area in the US, northeast, southeast, southwest, northwest.\n",
        "\n",
        "**charges**: Individual medical costs billed by health insurance\n",
        "\n",
        "\n"
      ],
      "metadata": {
        "id": "sb3NWerEjZLj"
      }
    },
    {
      "cell_type": "code",
      "source": [
        "cols=[\"age\",\"sex\",\"bmi\",\"children\",\"smoker\",\"region\",\"charges\"]\n",
        "df = pd.read_csv(\"insurance.csv\", names=cols)\n",
        "df.replace({'sex': {'male': 1, 'female': 0},\n",
        "            'smoker': {'yes': 1, 'no': 0},\n",
        "            'region': {'northeast': 3,'southeast': 2,'southwest': 1,'northwest': 0}\n",
        "           }, inplace=True)\n",
        "df.describe()\n",
        "df"
      ],
      "metadata": {
        "id": "kPM4nqWljj_h",
        "colab": {
          "base_uri": "https://localhost:8080/",
          "height": 423
        },
        "outputId": "d6714611-00fa-41f5-ab03-811d34f93b55"
      },
      "execution_count": null,
      "outputs": [
        {
          "output_type": "execute_result",
          "data": {
            "text/plain": [
              "      age  sex     bmi  children  smoker  region      charges\n",
              "0     age  sex     bmi  children  smoker  region      charges\n",
              "1      19    0    27.9         0       1       1    16884.924\n",
              "2      18    1   33.77         1       0       2    1725.5523\n",
              "3      28    1      33         3       0       2     4449.462\n",
              "4      33    1  22.705         0       0       0  21984.47061\n",
              "...   ...  ...     ...       ...     ...     ...          ...\n",
              "1334   50    1   30.97         3       0       0   10600.5483\n",
              "1335   18    0   31.92         0       0       3    2205.9808\n",
              "1336   18    0   36.85         0       0       2    1629.8335\n",
              "1337   21    0    25.8         0       0       1     2007.945\n",
              "1338   61    0   29.07         0       1       0   29141.3603\n",
              "\n",
              "[1339 rows x 7 columns]"
            ],
            "text/html": [
              "\n",
              "  <div id=\"df-82272ad3-1590-43fe-9540-f8a587fae733\">\n",
              "    <div class=\"colab-df-container\">\n",
              "      <div>\n",
              "<style scoped>\n",
              "    .dataframe tbody tr th:only-of-type {\n",
              "        vertical-align: middle;\n",
              "    }\n",
              "\n",
              "    .dataframe tbody tr th {\n",
              "        vertical-align: top;\n",
              "    }\n",
              "\n",
              "    .dataframe thead th {\n",
              "        text-align: right;\n",
              "    }\n",
              "</style>\n",
              "<table border=\"1\" class=\"dataframe\">\n",
              "  <thead>\n",
              "    <tr style=\"text-align: right;\">\n",
              "      <th></th>\n",
              "      <th>age</th>\n",
              "      <th>sex</th>\n",
              "      <th>bmi</th>\n",
              "      <th>children</th>\n",
              "      <th>smoker</th>\n",
              "      <th>region</th>\n",
              "      <th>charges</th>\n",
              "    </tr>\n",
              "  </thead>\n",
              "  <tbody>\n",
              "    <tr>\n",
              "      <th>0</th>\n",
              "      <td>age</td>\n",
              "      <td>sex</td>\n",
              "      <td>bmi</td>\n",
              "      <td>children</td>\n",
              "      <td>smoker</td>\n",
              "      <td>region</td>\n",
              "      <td>charges</td>\n",
              "    </tr>\n",
              "    <tr>\n",
              "      <th>1</th>\n",
              "      <td>19</td>\n",
              "      <td>0</td>\n",
              "      <td>27.9</td>\n",
              "      <td>0</td>\n",
              "      <td>1</td>\n",
              "      <td>1</td>\n",
              "      <td>16884.924</td>\n",
              "    </tr>\n",
              "    <tr>\n",
              "      <th>2</th>\n",
              "      <td>18</td>\n",
              "      <td>1</td>\n",
              "      <td>33.77</td>\n",
              "      <td>1</td>\n",
              "      <td>0</td>\n",
              "      <td>2</td>\n",
              "      <td>1725.5523</td>\n",
              "    </tr>\n",
              "    <tr>\n",
              "      <th>3</th>\n",
              "      <td>28</td>\n",
              "      <td>1</td>\n",
              "      <td>33</td>\n",
              "      <td>3</td>\n",
              "      <td>0</td>\n",
              "      <td>2</td>\n",
              "      <td>4449.462</td>\n",
              "    </tr>\n",
              "    <tr>\n",
              "      <th>4</th>\n",
              "      <td>33</td>\n",
              "      <td>1</td>\n",
              "      <td>22.705</td>\n",
              "      <td>0</td>\n",
              "      <td>0</td>\n",
              "      <td>0</td>\n",
              "      <td>21984.47061</td>\n",
              "    </tr>\n",
              "    <tr>\n",
              "      <th>...</th>\n",
              "      <td>...</td>\n",
              "      <td>...</td>\n",
              "      <td>...</td>\n",
              "      <td>...</td>\n",
              "      <td>...</td>\n",
              "      <td>...</td>\n",
              "      <td>...</td>\n",
              "    </tr>\n",
              "    <tr>\n",
              "      <th>1334</th>\n",
              "      <td>50</td>\n",
              "      <td>1</td>\n",
              "      <td>30.97</td>\n",
              "      <td>3</td>\n",
              "      <td>0</td>\n",
              "      <td>0</td>\n",
              "      <td>10600.5483</td>\n",
              "    </tr>\n",
              "    <tr>\n",
              "      <th>1335</th>\n",
              "      <td>18</td>\n",
              "      <td>0</td>\n",
              "      <td>31.92</td>\n",
              "      <td>0</td>\n",
              "      <td>0</td>\n",
              "      <td>3</td>\n",
              "      <td>2205.9808</td>\n",
              "    </tr>\n",
              "    <tr>\n",
              "      <th>1336</th>\n",
              "      <td>18</td>\n",
              "      <td>0</td>\n",
              "      <td>36.85</td>\n",
              "      <td>0</td>\n",
              "      <td>0</td>\n",
              "      <td>2</td>\n",
              "      <td>1629.8335</td>\n",
              "    </tr>\n",
              "    <tr>\n",
              "      <th>1337</th>\n",
              "      <td>21</td>\n",
              "      <td>0</td>\n",
              "      <td>25.8</td>\n",
              "      <td>0</td>\n",
              "      <td>0</td>\n",
              "      <td>1</td>\n",
              "      <td>2007.945</td>\n",
              "    </tr>\n",
              "    <tr>\n",
              "      <th>1338</th>\n",
              "      <td>61</td>\n",
              "      <td>0</td>\n",
              "      <td>29.07</td>\n",
              "      <td>0</td>\n",
              "      <td>1</td>\n",
              "      <td>0</td>\n",
              "      <td>29141.3603</td>\n",
              "    </tr>\n",
              "  </tbody>\n",
              "</table>\n",
              "<p>1339 rows × 7 columns</p>\n",
              "</div>\n",
              "      <button class=\"colab-df-convert\" onclick=\"convertToInteractive('df-82272ad3-1590-43fe-9540-f8a587fae733')\"\n",
              "              title=\"Convert this dataframe to an interactive table.\"\n",
              "              style=\"display:none;\">\n",
              "        \n",
              "  <svg xmlns=\"http://www.w3.org/2000/svg\" height=\"24px\"viewBox=\"0 0 24 24\"\n",
              "       width=\"24px\">\n",
              "    <path d=\"M0 0h24v24H0V0z\" fill=\"none\"/>\n",
              "    <path d=\"M18.56 5.44l.94 2.06.94-2.06 2.06-.94-2.06-.94-.94-2.06-.94 2.06-2.06.94zm-11 1L8.5 8.5l.94-2.06 2.06-.94-2.06-.94L8.5 2.5l-.94 2.06-2.06.94zm10 10l.94 2.06.94-2.06 2.06-.94-2.06-.94-.94-2.06-.94 2.06-2.06.94z\"/><path d=\"M17.41 7.96l-1.37-1.37c-.4-.4-.92-.59-1.43-.59-.52 0-1.04.2-1.43.59L10.3 9.45l-7.72 7.72c-.78.78-.78 2.05 0 2.83L4 21.41c.39.39.9.59 1.41.59.51 0 1.02-.2 1.41-.59l7.78-7.78 2.81-2.81c.8-.78.8-2.07 0-2.86zM5.41 20L4 18.59l7.72-7.72 1.47 1.35L5.41 20z\"/>\n",
              "  </svg>\n",
              "      </button>\n",
              "      \n",
              "  <style>\n",
              "    .colab-df-container {\n",
              "      display:flex;\n",
              "      flex-wrap:wrap;\n",
              "      gap: 12px;\n",
              "    }\n",
              "\n",
              "    .colab-df-convert {\n",
              "      background-color: #E8F0FE;\n",
              "      border: none;\n",
              "      border-radius: 50%;\n",
              "      cursor: pointer;\n",
              "      display: none;\n",
              "      fill: #1967D2;\n",
              "      height: 32px;\n",
              "      padding: 0 0 0 0;\n",
              "      width: 32px;\n",
              "    }\n",
              "\n",
              "    .colab-df-convert:hover {\n",
              "      background-color: #E2EBFA;\n",
              "      box-shadow: 0px 1px 2px rgba(60, 64, 67, 0.3), 0px 1px 3px 1px rgba(60, 64, 67, 0.15);\n",
              "      fill: #174EA6;\n",
              "    }\n",
              "\n",
              "    [theme=dark] .colab-df-convert {\n",
              "      background-color: #3B4455;\n",
              "      fill: #D2E3FC;\n",
              "    }\n",
              "\n",
              "    [theme=dark] .colab-df-convert:hover {\n",
              "      background-color: #434B5C;\n",
              "      box-shadow: 0px 1px 3px 1px rgba(0, 0, 0, 0.15);\n",
              "      filter: drop-shadow(0px 1px 2px rgba(0, 0, 0, 0.3));\n",
              "      fill: #FFFFFF;\n",
              "    }\n",
              "  </style>\n",
              "\n",
              "      <script>\n",
              "        const buttonEl =\n",
              "          document.querySelector('#df-82272ad3-1590-43fe-9540-f8a587fae733 button.colab-df-convert');\n",
              "        buttonEl.style.display =\n",
              "          google.colab.kernel.accessAllowed ? 'block' : 'none';\n",
              "\n",
              "        async function convertToInteractive(key) {\n",
              "          const element = document.querySelector('#df-82272ad3-1590-43fe-9540-f8a587fae733');\n",
              "          const dataTable =\n",
              "            await google.colab.kernel.invokeFunction('convertToInteractive',\n",
              "                                                     [key], {});\n",
              "          if (!dataTable) return;\n",
              "\n",
              "          const docLinkHtml = 'Like what you see? Visit the ' +\n",
              "            '<a target=\"_blank\" href=https://colab.research.google.com/notebooks/data_table.ipynb>data table notebook</a>'\n",
              "            + ' to learn more about interactive tables.';\n",
              "          element.innerHTML = '';\n",
              "          dataTable['output_type'] = 'display_data';\n",
              "          await google.colab.output.renderOutput(dataTable, element);\n",
              "          const docLink = document.createElement('div');\n",
              "          docLink.innerHTML = docLinkHtml;\n",
              "          element.appendChild(docLink);\n",
              "        }\n",
              "      </script>\n",
              "    </div>\n",
              "  </div>\n",
              "  "
            ]
          },
          "metadata": {},
          "execution_count": 2
        }
      ]
    },
    {
      "cell_type": "markdown",
      "source": [
        "# Initialize X and Y columns"
      ],
      "metadata": {
        "id": "46nNQ8c-lp7G"
      }
    },
    {
      "cell_type": "code",
      "source": [
        "df.iloc[1:, 0:6] = df.iloc[1:, 0:6].astype(float)\n",
        "df.iloc[1:, 6] = df.iloc[1:, 6].astype(float)"
      ],
      "metadata": {
        "id": "WMhSNlqSlwww"
      },
      "execution_count": null,
      "outputs": []
    },
    {
      "cell_type": "code",
      "source": [
        "X_features = [\"age\", \"sex\", \"bmi\", \"children\", \"smoker\", \"region\"]\n",
        "x_i = df.iloc[1:, 0:6].values\n",
        "y_i = df.iloc[1:, 6].astype(int).values.reshape(-1, 1).ravel()  "
      ],
      "metadata": {
        "id": "JEmTnHXQmcXe"
      },
      "execution_count": null,
      "outputs": []
    },
    {
      "cell_type": "markdown",
      "source": [
        "# Feature Scaling\n",
        "*   Feature Scaling is used to normalize the range of the data\n",
        "*   We are doing this because the range in each features is different\n",
        "\n",
        "\n"
      ],
      "metadata": {
        "id": "TujCfa18mltA"
      }
    },
    {
      "cell_type": "code",
      "source": [
        "scaler = StandardScaler()\n",
        "X = scaler.fit_transform(x_i)\n",
        "print(f\"Peak to Peak range by column in Raw        X:{np.ptp(x_i,axis=0)}\")   \n",
        "print(f\"Peak to Peak range by column in Normalized X:{np.ptp(X,axis=0)}\")"
      ],
      "metadata": {
        "id": "QSE_Jb-NmtwI",
        "colab": {
          "base_uri": "https://localhost:8080/"
        },
        "outputId": "93c12f77-0264-4695-dbeb-9ac5cacf0d6b"
      },
      "execution_count": null,
      "outputs": [
        {
          "output_type": "stream",
          "name": "stdout",
          "text": [
            "Peak to Peak range by column in Raw        X:[46.0 1.0 37.17 5.0 1.0 3.0]\n",
            "Peak to Peak range by column in Normalized X:[3.28 2.   6.1  4.15 2.48 2.72]\n"
          ]
        }
      ]
    },
    {
      "cell_type": "markdown",
      "source": [
        "# X_train,y_train,x_test,y_test\n",
        "\n"
      ],
      "metadata": {
        "id": "ZtllTatWmxxU"
      }
    },
    {
      "cell_type": "code",
      "source": [
        "X_train, x_test, y_train, y_test = train_test_split(X,y_i, test_size=0.3, random_state=42)"
      ],
      "metadata": {
        "id": "ruRwSz97m1wY"
      },
      "execution_count": null,
      "outputs": []
    },
    {
      "cell_type": "markdown",
      "source": [
        "# Find the insignificant features"
      ],
      "metadata": {
        "id": "jP_z40NOm5-m"
      }
    },
    {
      "cell_type": "markdown",
      "source": [
        "**1st Method (Select KBest)**"
      ],
      "metadata": {
        "id": "QPsEhUafnARO"
      }
    },
    {
      "cell_type": "code",
      "source": [
        "bestfeatures = SelectKBest(score_func=chi2, k=6)\n",
        "fit = bestfeatures.fit(x_i, y_i)\n",
        "dfscores = pd.DataFrame(fit.scores_)\n",
        "dfcolumns = pd.DataFrame(X_features)\n",
        "featureScores = pd.concat([dfcolumns, dfscores], axis=1)\n",
        "featureScores.columns = ['Features', 'Score']\n",
        "print(featureScores.nlargest(6, 'Score'))"
      ],
      "metadata": {
        "id": "ikcg8MDXnD1O",
        "colab": {
          "base_uri": "https://localhost:8080/"
        },
        "outputId": "f14e43f2-bd74-4e45-a967-917e2b3f39fc"
      },
      "execution_count": null,
      "outputs": [
        {
          "output_type": "stream",
          "name": "stdout",
          "text": [
            "   Features        Score\n",
            "0       age  6703.764216\n",
            "3  children  1752.136519\n",
            "2       bmi  1592.481991\n",
            "4    smoker  1059.116788\n",
            "5    region  1052.730370\n",
            "1       sex   655.072485\n"
          ]
        }
      ]
    },
    {
      "cell_type": "markdown",
      "source": [
        "**2nd method (ExtraTressClassifier)**"
      ],
      "metadata": {
        "id": "26UxeJ_znXce"
      }
    },
    {
      "cell_type": "code",
      "source": [
        "model = ExtraTreesClassifier()\n",
        "model.fit(x_i,y_i)\n",
        "print(model.feature_importances_) #use inbuilt class feature_importances of tree based classifiers\n",
        "#plot graph of feature importances for better visualization\n",
        "feat_importances = pd.Series(model.feature_importances_, index=pd.DataFrame(x_i, columns=[\"age\",\"sex\",\"bmi\",\"children\",\"smoker\",\"region\"]).columns)\n",
        "feat_importances.nlargest(6).plot(kind='barh')\n",
        "plt.show()"
      ],
      "metadata": {
        "id": "F4muSJH6ndKP",
        "colab": {
          "base_uri": "https://localhost:8080/",
          "height": 447
        },
        "outputId": "aeb3e638-eb00-4424-9160-28d5930d7e6c"
      },
      "execution_count": null,
      "outputs": [
        {
          "output_type": "stream",
          "name": "stdout",
          "text": [
            "[0.33 0.01 0.43 0.11 0.03 0.09]\n"
          ]
        },
        {
          "output_type": "display_data",
          "data": {
            "text/plain": [
              "<Figure size 640x480 with 1 Axes>"
            ],
            "image/png": "[encoded data removed]"
          },
          "metadata": {}
        }
      ]
    },
    {
      "cell_type": "markdown",
      "source": [
        "**Top 3 insignificant features:**\n",
        "1.   region \n",
        "2.   sex\n",
        "3.   smoker\n",
        "\n",
        "\n",
        "\n"
      ],
      "metadata": {
        "id": "0D9vi8s6npaz"
      }
    },
    {
      "cell_type": "markdown",
      "source": [
        "# Graph Charges vs Features"
      ],
      "metadata": {
        "id": "IVKcP8gVpFET"
      }
    },
    {
      "cell_type": "code",
      "source": [
        "X_features = [\"age\", \"sex\", \"bmi\", \"children\", \"smoker\", \"region\"]\n",
        "fig, axes = plt.subplots(nrows=3, ncols=2, figsize=(15, 10))\n",
        "axes = axes.flatten()\n",
        "\n",
        "df['charges'] = pd.to_numeric(df['charges'], errors='coerce')  # Convert 'charges' column to numeric\n",
        "\n",
        "df_cleaned = df.dropna(subset=['charges'])  \n",
        "\n",
        "for i, feature in enumerate(X_features):\n",
        "    axes[i].scatter(df_cleaned[feature], df_cleaned['charges'],color=\"purple\")\n",
        "    axes[i].set_xlabel(feature)\n",
        "    axes[i].set_ylabel('charges')\n",
        "\n",
        "plt.tight_layout()\n",
        "plt.show()"
      ],
      "metadata": {
        "id": "yxvE2daQoW28",
        "colab": {
          "base_uri": "https://localhost:8080/",
          "height": 757
        },
        "outputId": "c7590de1-dc5d-4793-8826-05a0c134aeb1"
      },
      "execution_count": null,
      "outputs": [
        {
          "output_type": "display_data",
          "data": {
            "text/plain": [
              "<Figure size 1500x1000 with 6 Axes>"
            ],
            "image/png": "[encoded data removed]"
          },
          "metadata": {}
        }
      ]
    },
    {
      "cell_type": "markdown",
      "source": [
        "# 1: Linear Regression"
      ],
      "metadata": {
        "id": "yaczoNNM1-RM"
      }
    },
    {
      "cell_type": "code",
      "source": [
        "linear = LinearRegression()\n",
        "linear.fit(X_train, y_train)\n",
        "y_pred_linear = linear.predict(x_test)"
      ],
      "metadata": {
        "id": "xtThMYx32BR6"
      },
      "execution_count": null,
      "outputs": []
    },
    {
      "cell_type": "code",
      "source": [
        "residuals_linear = y_test-y_pred_linear\n",
        "squared_residuals_linear = residuals_linear**2\n",
        "ssr_linear = np.sum(squared_residuals_linear)\n",
        "ssr_linear_formatted = \"{:.3e}\".format(ssr_linear)\n",
        "print(\"Sum of Squared Residuals (SSR): \" + str(ssr_linear) + \" @ \" + str(ssr_linear_formatted))"
      ],
      "metadata": {
        "id": "gXypR6Rv2H1L",
        "colab": {
          "base_uri": "https://localhost:8080/"
        },
        "outputId": "75a9e9a8-1755-4d43-e9b5-fd8f995cca31"
      },
      "execution_count": null,
      "outputs": [
        {
          "output_type": "stream",
          "name": "stdout",
          "text": [
            "Sum of Squared Residuals (SSR): 13685784039.521341 @ 1.369e+10\n"
          ]
        }
      ]
    },
    {
      "cell_type": "code",
      "source": [
        "headers = ['Feature', 'Weight']\n",
        "data = []\n",
        "for i in range(len(X_features)):\n",
        "    data.append([X_features[i], linear.coef_[i]])\n",
        "\n",
        "table = tabulate(data, headers=headers, tablefmt='orgtbl')\n",
        "print(table)"
      ],
      "metadata": {
        "id": "KkJfD8tK2JhP",
        "colab": {
          "base_uri": "https://localhost:8080/"
        },
        "outputId": "deadd360-e4d1-4a60-bc3c-8be8ac030e13"
      },
      "execution_count": null,
      "outputs": [
        {
          "output_type": "stream",
          "name": "stdout",
          "text": [
            "| Feature   |    Weight |\n",
            "|-----------+-----------|\n",
            "| age       | 3681.93   |\n",
            "| sex       |   71.7616 |\n",
            "| bmi       | 2027.75   |\n",
            "| children  |  521.965  |\n",
            "| smoker    | 9525.2    |\n",
            "| region    |  162.276  |\n"
          ]
        }
      ]
    },
    {
      "cell_type": "code",
      "source": [
        "print(\"Intercept  : %.2f\" % linear.intercept_)\n",
        "\n",
        "mse=mean_squared_error(y_test, y_pred_linear)\n",
        "print(\"MSE        :\",mse)\n",
        "\n",
        "rsme=np.sqrt(mean_squared_error(y_test, y_pred_linear))\n",
        "print(\"RMSE       :\",rsme)\n",
        "\n",
        "print(\"R^2        : %.3f\"% r2_score(y_test, y_pred_linear))"
      ],
      "metadata": {
        "id": "PZbBcrcw2MON",
        "colab": {
          "base_uri": "https://localhost:8080/"
        },
        "outputId": "8c071c32-852e-40a8-cd93-0d3f6b4f56dd"
      },
      "execution_count": null,
      "outputs": [
        {
          "output_type": "stream",
          "name": "stdout",
          "text": [
            "Intercept  : 13328.08\n",
            "MSE        : 34044238.904281944\n",
            "RMSE       : 5834.74411643578\n",
            "R^2        : 0.768\n"
          ]
        }
      ]
    },
    {
      "cell_type": "code",
      "source": [
        "y_pred_linear = linear.predict(x_test)\n",
        "fig,ax=plt.subplots(figsize=(6,6))\n",
        "ax.scatter(y_test,y_pred_linear,color='orange')\n",
        "ax.plot([y_test.min(),y_test.max()], [y_test.min(),y_test.max()], 'k-', lw=3) # change line style to '-'\n",
        "ax.set_xlabel('Measured')\n",
        "ax.set_ylabel('Predicted')\n",
        "ax.set_title(\"[Linear Regression] Target vs Prediction\")\n",
        "ax.set_xlim([y_test.min(), y_test.max()])\n",
        "ax.set_ylim([y_test.min(), y_test.max()])\n",
        "plt.show()"
      ],
      "metadata": {
        "id": "yFFikTrG2Nsa",
        "colab": {
          "base_uri": "https://localhost:8080/",
          "height": 564
        },
        "outputId": "ef599f55-3e4d-4007-e33d-73aa3ce5a0bf"
      },
      "execution_count": null,
      "outputs": [
        {
          "output_type": "display_data",
          "data": {
            "text/plain": [
              "<Figure size 600x600 with 1 Axes>"
            ],
            "image/png": "[encoded data removed]"
          },
          "metadata": {}
        }
      ]
    },
    {
      "cell_type": "markdown",
      "source": [
        "# 2: Stochastic Gradient Descent (SGD)"
      ],
      "metadata": {
        "id": "fPLyy8Qwb7uO"
      }
    },
    {
      "cell_type": "code",
      "source": [
        "sgdr = SGDRegressor(max_iter=1000)\n",
        "sgdr.fit(X_train, y_train)\n",
        "print(sgdr)\n",
        "print(f\"number of iterations completed: {sgdr.n_iter_}, number of weight updates: {sgdr.t_}\")"
      ],
      "metadata": {
        "id": "YeebKFsDcALX",
        "colab": {
          "base_uri": "https://localhost:8080/"
        },
        "outputId": "dabf8ccf-f614-464c-f924-278ffbe57dd8"
      },
      "execution_count": null,
      "outputs": [
        {
          "output_type": "stream",
          "name": "stdout",
          "text": [
            "SGDRegressor()\n",
            "number of iterations completed: 35, number of weight updates: 32761.0\n"
          ]
        }
      ]
    },
    {
      "cell_type": "code",
      "source": [
        "b_norm = sgdr.intercept_\n",
        "w_norm = sgdr.coef_\n",
        "headers = ['Feature', 'Weight']\n",
        "data = []\n",
        "for i in range(len(X_features)):\n",
        "    data.append([X_features[i], w_norm[i]])\n",
        "\n",
        "table = tabulate(data, headers=headers, tablefmt='orgtbl')\n",
        "print(table)"
      ],
      "metadata": {
        "id": "Dab7LhOgcc3j",
        "colab": {
          "base_uri": "https://localhost:8080/"
        },
        "outputId": "bdbdeff5-f4b2-417e-87e6-8781443851cd"
      },
      "execution_count": null,
      "outputs": [
        {
          "output_type": "stream",
          "name": "stdout",
          "text": [
            "| Feature   |    Weight |\n",
            "|-----------+-----------|\n",
            "| age       | 3651.67   |\n",
            "| sex       |   64.9091 |\n",
            "| bmi       | 2019.32   |\n",
            "| children  |  516.06   |\n",
            "| smoker    | 9537.5    |\n",
            "| region    |  166.214  |\n"
          ]
        }
      ]
    },
    {
      "cell_type": "code",
      "source": [
        "# make a prediction using sgdr.predict()\n",
        "y_pred_sgd = sgdr.predict(x_test)\n",
        "# make a prediction using w,b. \n",
        "y_pred = np.dot(x_test, w_norm) + b_norm  \n",
        "print(f\"prediction using np.dot() and sgdr.predict match: {(y_pred == y_pred_sgd).all()}\")\n",
        "# create a list of tuples for the data\n",
        "data = [(i+1, y_pred[i], y_train[i]) for i in range(len(y_pred))]\n",
        "# create the table headers\n",
        "headers = [\"#\", \"Prediction\", \"Target\"]\n",
        "# print the table\n",
        "print(tabulate(data, headers=headers))"
      ],
      "metadata": {
        "id": "LmsYmbtHcfSt",
        "colab": {
          "base_uri": "https://localhost:8080/"
        },
        "outputId": "b58a5267-ec13-4c2d-d275-733bd1f43c1e"
      },
      "execution_count": null,
      "outputs": [
        {
          "output_type": "stream",
          "name": "stdout",
          "text": [
            "prediction using np.dot() and sgdr.predict match: True\n",
            "  #    Prediction    Target\n",
            "---  ------------  --------\n",
            "  1      8728.89      13429\n",
            "  2      6685.85      24603\n",
            "  3     36561.8       27322\n",
            "  4      9284.33      42303\n",
            "  5     26659.4       42112\n",
            "  6     11141         41676\n",
            "  7      -220.3        4562\n",
            "  8     16707.7        3490\n",
            "  9       840.366     12485\n",
            " 10     11039.9        6748\n",
            " 11     28463.6       45863\n",
            " 12      9161.01       2166\n",
            " 13      5452.61       6457\n",
            " 14     38720.2       12094\n",
            " 15     40601.8       19515\n",
            " 16     37422.4        4915\n",
            " 17     15417.1        2523\n",
            " 18     36099.1       11566\n",
            " 19      9362.53      23241\n",
            " 20     31101.8        4074\n",
            " 21      4220.08       6600\n",
            " 22     10497.3        1242\n",
            " 23      2671.99      19361\n",
            " 24      6738.63       8603\n",
            " 25     10981.3        5972\n",
            " 26     12698.5        3171\n",
            " 27     14759.2        5375\n",
            " 28      5756.45      12629\n",
            " 29      9720.94      19040\n",
            " 30      2476.34       8219\n",
            " 31      9350.85       7348\n",
            " 32     12743.8        4347\n",
            " 33      4693.38       6753\n",
            " 34      3074.81       2457\n",
            " 35      4787.76       5976\n",
            " 36     12848.5       18806\n",
            " 37      2165.38      11070\n",
            " 38      9044.86      10065\n",
            " 39     32957.4       24671\n",
            " 40     32895.2        1824\n",
            " 41      4087.15       7325\n",
            " 42      4044.45      40103\n",
            " 43     14379.3       39725\n",
            " 44     11285.2        1748\n",
            " 45      9091.25      48173\n",
            " 46     12539.7       35585\n",
            " 47      4838.15      35160\n",
            " 48      3366.26       1263\n",
            " 49     35826.8       12982\n",
            " 50      9445.77       1261\n",
            " 51     16087.2        8444\n",
            " 52      2649.53      36124\n",
            " 53     11930.5       15161\n",
            " 54      1296.83      10600\n",
            " 55     13777.6        6393\n",
            " 56     12456         12129\n",
            " 57      4196.58      22395\n",
            " 58     31882.4        8733\n",
            " 59     13576.7       21984\n",
            " 60     12627.3       11881\n",
            " 61     14446.1        9910\n",
            " 62     10622.8        7228\n",
            " 63     16765          2438\n",
            " 64      7434.48       4357\n",
            " 65     11580.6        8410\n",
            " 66      3680.88       5488\n",
            " 67     26982.5       21659\n",
            " 68     11362.3       12269\n",
            " 69      1767.97       1769\n",
            " 70      6466.45      39597\n",
            " 71     10544.1       34838\n",
            " 72     11349.1        2897\n",
            " 73     11203.3        1149\n",
            " 74      9521.68      19023\n",
            " 75     12288.2        4667\n",
            " 76      6953.7       11945\n",
            " 77      7061.54      12479\n",
            " 78     10438.3        3756\n",
            " 79      6750.45       6186\n",
            " 80      9030.08       8968\n",
            " 81      4053.07       1917\n",
            " 82     36560.2        1977\n",
            " 83      6579.95       4466\n",
            " 84     30451          2136\n",
            " 85     35012.4        2727\n",
            " 86     35139.5       24915\n",
            " 87      7354.83      12797\n",
            " 88     12668.4       40182\n",
            " 89      9582.66      33907\n",
            " 90     14850.6       12574\n",
            " 91     17428.8       24227\n",
            " 92     35572.6        4433\n",
            " 93     32769.7       10579\n",
            " 94      6036.88       7160\n",
            " 95     32297.4       11187\n",
            " 96      9844.82      14235\n",
            " 97     29778.2       10072\n",
            " 98      3813.92       6389\n",
            " 99     27936.5        9875\n",
            "100      5562.41       8162\n",
            "101      5019.1        1826\n",
            "102      2045.27      10085\n",
            "103     11808.8        4571\n",
            "104     15465          9249\n",
            "105     11658.8       31620\n",
            "106      4580.76       1708\n",
            "107     10275.1        9487\n",
            "108     32150         18223\n",
            "109      -245.179     12523\n",
            "110     33104.3       48970\n",
            "111      3566.38      40419\n",
            "112     10413.9        8342\n",
            "113     14072.4        5116\n",
            "114     31309.3       36021\n",
            "115     11197.4        1241\n",
            "116      4221.51      38792\n",
            "117     13035.2        9617\n",
            "118     32047.5        3206\n",
            "119      8361.71      13844\n",
            "120      2982.74       4449\n",
            "121      8115.52       8240\n",
            "122     10356.9        1737\n",
            "123     14923.2       17128\n",
            "124      5931.16       5425\n",
            "125      3416.8        7371\n",
            "126      9849.39       3213\n",
            "127     11096.8       12268\n",
            "128     11012.5       17929\n",
            "129     14682.8       21677\n",
            "130      7675.27      13635\n",
            "131      5585.74       5966\n",
            "132      9565.81       5257\n",
            "133      9517.87      10156\n",
            "134     12215.2       43921\n",
            "135      8537.24      14001\n",
            "136     15719.8       12142\n",
            "137      8217.95       3556\n",
            "138     32153.9        2331\n",
            "139     35358.4        8615\n",
            "140     31283.5       47496\n",
            "141      5647.35      12430\n",
            "142     12327.6        5002\n",
            "143      6305.41       7740\n",
            "144     14188.5       40273\n",
            "145      2838.83       1135\n",
            "146     33372.9       11741\n",
            "147      6042.49      11365\n",
            "148      5231.56       9704\n",
            "149     13979.1       20630\n",
            "150      7293.41      16115\n",
            "151     38290.9        5397\n",
            "152      2676.42       2304\n",
            "153      6120.19      10959\n",
            "154     31485.6       20149\n",
            "155     11127.2       19214\n",
            "156      8289.14      19521\n",
            "157     14719.5       44641\n",
            "158     10059.8        9630\n",
            "159     27224.8        6112\n",
            "160     33282.4        8606\n",
            "161     14311.8       30184\n",
            "162      1277.92      52590\n",
            "163     13638.6        1137\n",
            "164      2061.86      22331\n",
            "165      5758.65       1607\n",
            "166     11905          3857\n",
            "167     40034.9       44423\n",
            "168     36157.9        8627\n",
            "169     33850.4        4005\n",
            "170      4069.05      10825\n",
            "171      7756.05      10493\n",
            "172      8866.12       4718\n",
            "173     12232.6        7147\n",
            "174      4590.72      10338\n",
            "175      2229.02       4438\n",
            "176     32512.2       23807\n",
            "177     25412          3471\n",
            "178     17861.7       10848\n",
            "179     26077.2       10107\n",
            "180      9880.11      17496\n",
            "181     37036.5        7419\n",
            "182      -708.753      2045\n",
            "183      6642.31       8765\n",
            "184      7963.61       4441\n",
            "185      4245.77       9748\n",
            "186      4667.25       7624\n",
            "187      5749.49       3056\n",
            "188      4507.8        7640\n",
            "189     15343.4       15555\n",
            "190     10969         10407\n",
            "191      7216.18       1832\n",
            "192      2174.03       4151\n",
            "193      1231.46       6358\n",
            "194     32237.3        7151\n",
            "195     16795.1       19144\n",
            "196     12238.4       10226\n",
            "197       868.811     38998\n",
            "198     12296.2        1634\n",
            "199      1229.94      34472\n",
            "200      9012.22       1121\n",
            "201      1505.31      42111\n",
            "202     33729         33307\n",
            "203     11117          8930\n",
            "204      2339.5       10806\n",
            "205     25836         12265\n",
            "206     26535.5        3227\n",
            "207      9259.87       3176\n",
            "208      1435.36      19444\n",
            "209     13592.3        8671\n",
            "210      1350.35       7418\n",
            "211     10870.8       19442\n",
            "212     10874.3       41034\n",
            "213     16573.1       11353\n",
            "214     27170.5        4040\n",
            "215      7340.31       2217\n",
            "216      4884.96       6250\n",
            "217      6055.36       6799\n",
            "218     13526.2       47291\n",
            "219     11408.3       46130\n",
            "220      8543.05      13770\n",
            "221      4673.98      47403\n",
            "222     12042.7        5910\n",
            "223     14130.5        7345\n",
            "224     36090.9       22462\n",
            "225      3867.96      10106\n",
            "226     29220.9       27533\n",
            "227      -704.172      1532\n",
            "228      2584.44      39836\n",
            "229     11448.3       45710\n",
            "230     15872.8       37165\n",
            "231      5479.1       11840\n",
            "232      6620.73       7201\n",
            "233      4077.39      13041\n",
            "234     31685.2        2254\n",
            "235      6975.14      16657\n",
            "236     12759.2       39871\n",
            "237      5355.37       3260\n",
            "238      9877.72       4670\n",
            "239     36466.3       38344\n",
            "240      4718.83      17904\n",
            "241      9506.63       5003\n",
            "242     31452.3       39241\n",
            "243      5304.88       8703\n",
            "244      4781.92       9964\n",
            "245       790.673     30166\n",
            "246      4561.81      48549\n",
            "247      4778.04       2842\n",
            "248      6844.66      17352\n",
            "249     18830.1       34779\n",
            "250     -1758.36       5138\n",
            "251      2537.16      18648\n",
            "252     11040         36085\n",
            "253      3358.4        8601\n",
            "254     10016.9       18767\n",
            "255      3291.97      12829\n",
            "256      5287.12       7147\n",
            "257     12835.2       28923\n",
            "258      5934.15       4762\n",
            "259      8161.08      13047\n",
            "260      7279.4       15359\n",
            "261      8570.04       4618\n",
            "262     10227.8       11150\n",
            "263     28122.8       10982\n",
            "264     39450.6        3935\n",
            "265     11461.8       10381\n",
            "266      7554.53       8515\n",
            "267     41061.9       20745\n",
            "268     12549.3        6837\n",
            "269      6806.61      12224\n",
            "270      8109.17      27346\n",
            "271      9437.58      10436\n",
            "272     11332.5       34828\n",
            "273      9818.4        7985\n",
            "274     17929.6        8782\n",
            "275      1301.49      19933\n",
            "276     23420.7       12979\n",
            "277     12448.8       10795\n",
            "278     32974.4        7281\n",
            "279      5086.07      27218\n",
            "280     13520.3       40003\n",
            "281     10034.4        1704\n",
            "282     17501.4        9620\n",
            "283     10309.5        9144\n",
            "284     11179.5        6849\n",
            "285     32576.7        6877\n",
            "286      3148.32       9549\n",
            "287     13869.1       11520\n",
            "288     39669.8        3353\n",
            "289      5348.63       7639\n",
            "290      5812.34       9500\n",
            "291      3086.65       3757\n",
            "292     11790.2       18972\n",
            "293     25291.5       11482\n",
            "294     13956.9       10325\n",
            "295      9706.45      11013\n",
            "296      9964.61       4673\n",
            "297     13834.3        4747\n",
            "298      1279.09       4738\n",
            "299      2694.2       14043\n",
            "300     30986.7        7518\n",
            "301     30338.9        2689\n",
            "302     13857.9       45008\n",
            "303      3311.11       7358\n",
            "304     25136.5        5615\n",
            "305     13847.2        3537\n",
            "306     31016.3        6571\n",
            "307      3166.08      10959\n",
            "308     39309.8       33475\n",
            "309     11464.7        3943\n",
            "310      5042.96      37484\n",
            "311      7092.57       6551\n",
            "312      2868.16       5227\n",
            "313     25638.9        1632\n",
            "314     14649.8       37465\n",
            "315       937.049      6652\n",
            "316     13059.5        2480\n",
            "317     13043.9        3077\n",
            "318     14545.8       14349\n",
            "319     35328.4        5974\n",
            "320     14001.2        2585\n",
            "321     32016          8334\n",
            "322     10275.8       11856\n",
            "323     18510.7       16884\n",
            "324      6291.53      10043\n",
            "325      9253.21      10704\n",
            "326      9725.43      28868\n",
            "327     15665.1        2203\n",
            "328      9512.15       4746\n",
            "329      8022.16       4454\n",
            "330     15339.7       32108\n",
            "331     12559.2        7050\n",
            "332     14592.2        1694\n",
            "333      7795.3        7512\n",
            "334     26407.2        3385\n",
            "335      9586.01      10702\n",
            "336      1587.18      48675\n",
            "337      4600.58       1984\n",
            "338     14501          2026\n",
            "339     36046.8        1629\n",
            "340      9921.86       1631\n",
            "341     12447.2        4428\n",
            "342      5178.05       2134\n",
            "343      4663.26      47305\n",
            "344      4324.23      17663\n",
            "345      2488.73      13616\n",
            "346      8667.39       6746\n",
            "347      7485.2       43813\n",
            "348      2747.34       3561\n",
            "349     13408.4       33900\n",
            "350      8530.61      19199\n",
            "351      6302.26      13470\n",
            "352      1079.85       7445\n",
            "353      9766.72       3180\n",
            "354      5181.88       1967\n",
            "355     32698.2        6059\n",
            "356     28770.7       41919\n",
            "357     37184.6       46599\n",
            "358      5875.97       5028\n",
            "359      9018.65       2775\n",
            "360      8618.1       27724\n",
            "361      3762.81      12044\n",
            "362     31446.5       24520\n",
            "363      6981.35       3279\n",
            "364     28833.8        4827\n",
            "365     35786.5        6311\n",
            "366      7381.95       8280\n",
            "367     13235.4        5246\n",
            "368      9445.5        5240\n",
            "369      8039.51      10577\n",
            "370     12475.3        5415\n",
            "371     30038.6       24513\n",
            "372     17386.1       11946\n",
            "373     11470.5        8347\n",
            "374      3732.79      43943\n",
            "375      -815.943     14474\n",
            "376     11928.3        4058\n",
            "377     31239          6710\n",
            "378     13362.8        4234\n",
            "379     11614.1        8520\n",
            "380      7453.06      10450\n",
            "381      3450.69      11163\n",
            "382      7492.65      26467\n",
            "383      7564.69       2639\n",
            "384     10979.5       11253\n",
            "385     33475.8       43753\n",
            "386     39431.2        4949\n",
            "387     12218.5        2362\n",
            "388      7979.13       2867\n",
            "389     16085.1       39774\n",
            "390     15232.3       11552\n",
            "391      9892.96      14382\n",
            "392      9466.67      19673\n",
            "393      8553.55       5472\n",
            "394      3129.08       9880\n",
            "395     10439         23288\n",
            "396      4264.95       6203\n",
            "397     10959.7        5584\n",
            "398     15655.1       12622\n",
            "399      7010.65      13887\n",
            "400      1859.33      20709\n",
            "401     14844.1       13430\n",
            "402       577.669      6796\n"
          ]
        }
      ]
    },
    {
      "cell_type": "code",
      "source": [
        "b_sgdr = sgdr.intercept_\n",
        "mse_sgdr = mean_squared_error(y_test, y_pred_sgd)\n",
        "r2_sgdr = r2_score(y_test, y_pred_sgd)\n",
        "print(\"Intercept (b):\", b_sgdr)\n",
        "print(\"R-squared score:\", r2_sgdr)\n",
        "print(\"Mean squared error:\", mse_sgdr)"
      ],
      "metadata": {
        "id": "r8N1V8Dccifm",
        "colab": {
          "base_uri": "https://localhost:8080/"
        },
        "outputId": "c96e298d-7353-415e-f8ce-a177e893e049"
      },
      "execution_count": null,
      "outputs": [
        {
          "output_type": "stream",
          "name": "stdout",
          "text": [
            "Intercept (b): [13334.99]\n",
            "R-squared score: 0.767966338919718\n",
            "Mean squared error: 34021760.080791935\n"
          ]
        }
      ]
    },
    {
      "cell_type": "markdown",
      "source": [
        "# 3: Polynomial Regression"
      ],
      "metadata": {
        "id": "jIztTKtwcqTa"
      }
    },
    {
      "cell_type": "code",
      "source": [
        "poly = PolynomialFeatures(degree=2, include_bias=False)\n",
        "poly_features = poly.fit_transform(x_i)"
      ],
      "metadata": {
        "id": "-STBWKchctzU"
      },
      "execution_count": null,
      "outputs": []
    },
    {
      "cell_type": "code",
      "source": [
        "poly_reg_model = LinearRegression()\n",
        "poly_reg_model.fit(X_train, y_train)"
      ],
      "metadata": {
        "id": "94ekyPClcxSg",
        "colab": {
          "base_uri": "https://localhost:8080/",
          "height": 74
        },
        "outputId": "b3b33e59-ec26-4ad9-eabf-00fa6eb81630"
      },
      "execution_count": null,
      "outputs": [
        {
          "output_type": "execute_result",
          "data": {
            "text/plain": [
              "LinearRegression()"
            ],
            "text/html": [
              "<style>#sk-container-id-1 {color: black;background-color: white;}#sk-container-id-1 pre{padding: 0;}#sk-container-id-1 div.sk-toggleable {background-color: white;}#sk-container-id-1 label.sk-toggleable__label {cursor: pointer;display: block;width: 100%;margin-bottom: 0;padding: 0.3em;box-sizing: border-box;text-align: center;}#sk-container-id-1 label.sk-toggleable__label-arrow:before {content: \"▸\";float: left;margin-right: 0.25em;color: #696969;}#sk-container-id-1 label.sk-toggleable__label-arrow:hover:before {color: black;}#sk-container-id-1 div.sk-estimator:hover label.sk-toggleable__label-arrow:before {color: black;}#sk-container-id-1 div.sk-toggleable__content {max-height: 0;max-width: 0;overflow: hidden;text-align: left;background-color: #f0f8ff;}#sk-container-id-1 div.sk-toggleable__content pre {margin: 0.2em;color: black;border-radius: 0.25em;background-color: #f0f8ff;}#sk-container-id-1 input.sk-toggleable__control:checked~div.sk-toggleable__content {max-height: 200px;max-width: 100%;overflow: auto;}#sk-container-id-1 input.sk-toggleable__control:checked~label.sk-toggleable__label-arrow:before {content: \"▾\";}#sk-container-id-1 div.sk-estimator input.sk-toggleable__control:checked~label.sk-toggleable__label {background-color: #d4ebff;}#sk-container-id-1 div.sk-label input.sk-toggleable__control:checked~label.sk-toggleable__label {background-color: #d4ebff;}#sk-container-id-1 input.sk-hidden--visually {border: 0;clip: rect(1px 1px 1px 1px);clip: rect(1px, 1px, 1px, 1px);height: 1px;margin: -1px;overflow: hidden;padding: 0;position: absolute;width: 1px;}#sk-container-id-1 div.sk-estimator {font-family: monospace;background-color: #f0f8ff;border: 1px dotted black;border-radius: 0.25em;box-sizing: border-box;margin-bottom: 0.5em;}#sk-container-id-1 div.sk-estimator:hover {background-color: #d4ebff;}#sk-container-id-1 div.sk-parallel-item::after {content: \"\";width: 100%;border-bottom: 1px solid gray;flex-grow: 1;}#sk-container-id-1 div.sk-label:hover label.sk-toggleable__label {background-color: #d4ebff;}#sk-container-id-1 div.sk-serial::before {content: \"\";position: absolute;border-left: 1px solid gray;box-sizing: border-box;top: 0;bottom: 0;left: 50%;z-index: 0;}#sk-container-id-1 div.sk-serial {display: flex;flex-direction: column;align-items: center;background-color: white;padding-right: 0.2em;padding-left: 0.2em;position: relative;}#sk-container-id-1 div.sk-item {position: relative;z-index: 1;}#sk-container-id-1 div.sk-parallel {display: flex;align-items: stretch;justify-content: center;background-color: white;position: relative;}#sk-container-id-1 div.sk-item::before, #sk-container-id-1 div.sk-parallel-item::before {content: \"\";position: absolute;border-left: 1px solid gray;box-sizing: border-box;top: 0;bottom: 0;left: 50%;z-index: -1;}#sk-container-id-1 div.sk-parallel-item {display: flex;flex-direction: column;z-index: 1;position: relative;background-color: white;}#sk-container-id-1 div.sk-parallel-item:first-child::after {align-self: flex-end;width: 50%;}#sk-container-id-1 div.sk-parallel-item:last-child::after {align-self: flex-start;width: 50%;}#sk-container-id-1 div.sk-parallel-item:only-child::after {width: 0;}#sk-container-id-1 div.sk-dashed-wrapped {border: 1px dashed gray;margin: 0 0.4em 0.5em 0.4em;box-sizing: border-box;padding-bottom: 0.4em;background-color: white;}#sk-container-id-1 div.sk-label label {font-family: monospace;font-weight: bold;display: inline-block;line-height: 1.2em;}#sk-container-id-1 div.sk-label-container {text-align: center;}#sk-container-id-1 div.sk-container {/* jupyter's `normalize.less` sets `[hidden] { display: none; }` but bootstrap.min.css set `[hidden] { display: none !important; }` so we also need the `!important` here to be able to override the default hidden behavior on the sphinx rendered scikit-learn.org. See: https://github.com/scikit-learn/scikit-learn/issues/21755 */display: inline-block !important;position: relative;}#sk-container-id-1 div.sk-text-repr-fallback {display: none;}</style><div id=\"sk-container-id-1\" class=\"sk-top-container\"><div class=\"sk-text-repr-fallback\"><pre>LinearRegression()</pre><b>In a Jupyter environment, please rerun this cell to show the HTML representation or trust the notebook. <br />On GitHub, the HTML representation is unable to render, please try loading this page with nbviewer.org.</b></div><div class=\"sk-container\" hidden><div class=\"sk-item\"><div class=\"sk-estimator sk-toggleable\"><input class=\"sk-toggleable__control sk-hidden--visually\" id=\"sk-estimator-id-1\" type=\"checkbox\" checked><label for=\"sk-estimator-id-1\" class=\"sk-toggleable__label sk-toggleable__label-arrow\">LinearRegression</label><div class=\"sk-toggleable__content\"><pre>LinearRegression()</pre></div></div></div></div></div>"
            ]
          },
          "metadata": {},
          "execution_count": 20
        }
      ]
    },
    {
      "cell_type": "code",
      "source": [
        "poly_reg_y_predicted = poly_reg_model.predict(x_test)"
      ],
      "metadata": {
        "id": "nY0R_0mec22R"
      },
      "execution_count": null,
      "outputs": []
    },
    {
      "cell_type": "code",
      "source": [
        "data = []\n",
        "for i in range(len(X_features)):\n",
        "    data.append([X_features[i], poly_reg_model.coef_[i]])\n",
        "\n",
        "table = tabulate(data, headers=headers, tablefmt='orgtbl')\n",
        "print(table)"
      ],
      "metadata": {
        "id": "iS2ZotGEc7DW",
        "colab": {
          "base_uri": "https://localhost:8080/"
        },
        "outputId": "38750b26-780a-4e73-e9fb-14a0cc6768be"
      },
      "execution_count": null,
      "outputs": [
        {
          "output_type": "stream",
          "name": "stdout",
          "text": [
            "| #        |   Prediction |\n",
            "|----------+--------------|\n",
            "| age      |    3681.93   |\n",
            "| sex      |      71.7616 |\n",
            "| bmi      |    2027.75   |\n",
            "| children |     521.965  |\n",
            "| smoker   |    9525.2    |\n",
            "| region   |     162.276  |\n"
          ]
        }
      ]
    },
    {
      "cell_type": "code",
      "source": [
        "b_poly = poly_reg_model.intercept_\n",
        "mse_poly = mean_squared_error(y_test, poly_reg_y_predicted)\n",
        "r2_poly = r2_score(y_test, poly_reg_y_predicted)\n",
        "print(\"Intercept (b):\", b_poly)\n",
        "print(\"R-squared score:\", r2_poly)\n",
        "print(\"Mean squared error:\", mse_poly)"
      ],
      "metadata": {
        "id": "ldPt5QWRc9X8",
        "colab": {
          "base_uri": "https://localhost:8080/"
        },
        "outputId": "f4a780b5-c8b8-4321-83ce-5589a4651460"
      },
      "execution_count": null,
      "outputs": [
        {
          "output_type": "stream",
          "name": "stdout",
          "text": [
            "Intercept (b): 13328.077228094735\n",
            "R-squared score: 0.7678130298698987\n",
            "Mean squared error: 34044238.904281944\n"
          ]
        }
      ]
    },
    {
      "cell_type": "markdown",
      "source": [
        "# 4: Ridge Regression (L2 Regularization)"
      ],
      "metadata": {
        "id": "Yjyw3iqD2PJX"
      }
    },
    {
      "cell_type": "code",
      "source": [
        "ridge = Ridge(alpha=1000.0)\n",
        "ridge.fit(X_train, y_train)\n",
        "y_pred_ridge = ridge.predict(x_test)"
      ],
      "metadata": {
        "id": "bafoPOFs2VxT"
      },
      "execution_count": null,
      "outputs": []
    },
    {
      "cell_type": "code",
      "source": [
        "residuals_ridge = y_test-y_pred_ridge\n",
        "squared_residuals_ridge = residuals_ridge**2\n",
        "ssr_ridge = np.sum(squared_residuals_ridge)\n",
        "print(\"\")\n",
        "print(\"Sum of Squared Residuals (SSR): \", ssr_ridge)"
      ],
      "metadata": {
        "id": "NTYqG7kF2Xd6",
        "colab": {
          "base_uri": "https://localhost:8080/"
        },
        "outputId": "e0e24a87-bf3f-483f-cdde-447aa15c9bdb"
      },
      "execution_count": null,
      "outputs": [
        {
          "output_type": "stream",
          "name": "stdout",
          "text": [
            "\n",
            "Sum of Squared Residuals (SSR):  25962926214.17419\n"
          ]
        }
      ]
    },
    {
      "cell_type": "code",
      "source": [
        "headers = ['Feature', 'Weight']\n",
        "data = []\n",
        "for i in range(len(X_features)):\n",
        "    data.append([X_features[i], ridge.coef_[i]])\n",
        "\n",
        "table = tabulate(data, headers=headers, tablefmt='orgtbl')\n",
        "print(table)"
      ],
      "metadata": {
        "id": "4DtrlhDg2Y8s",
        "colab": {
          "base_uri": "https://localhost:8080/"
        },
        "outputId": "e0a8c20e-28fc-4c1f-aa5a-b47cde6581fa"
      },
      "execution_count": null,
      "outputs": [
        {
          "output_type": "stream",
          "name": "stdout",
          "text": [
            "| Feature   |   Weight |\n",
            "|-----------+----------|\n",
            "| age       | 1732.12  |\n",
            "| sex       |  138.504 |\n",
            "| bmi       | 1054.01  |\n",
            "| children  |  365.698 |\n",
            "| smoker    | 4589.83  |\n",
            "| region    |  158.684 |\n"
          ]
        }
      ]
    },
    {
      "cell_type": "code",
      "source": [
        "print(\"Intercept  : %.2f\" % ridge.intercept_)\n",
        "\n",
        "mse=mean_squared_error(y_test, y_pred_ridge)\n",
        "print(\"MSE        :\",mse)\n",
        "\n",
        "rsme=np.sqrt(mean_squared_error(y_test, y_pred_ridge))\n",
        "print(\"RSME       :\",rsme)\n",
        "\n",
        "print(\"R^2        : %.3f\"% r2_score(y_test, y_pred_ridge))"
      ],
      "metadata": {
        "id": "3y2caPx02aYn",
        "colab": {
          "base_uri": "https://localhost:8080/"
        },
        "outputId": "f9934b16-4ed4-4115-e256-d11598ea7f4d"
      },
      "execution_count": null,
      "outputs": [
        {
          "output_type": "stream",
          "name": "stdout",
          "text": [
            "Intercept  : 13351.61\n",
            "MSE        : 64584393.567597486\n",
            "RSME       : 8036.441598593092\n",
            "R^2        : 0.560\n"
          ]
        }
      ]
    },
    {
      "cell_type": "code",
      "source": [
        "y_pred_ridge = ridge.predict(x_test)\n",
        "fig,ax=plt.subplots(figsize=(6,6))\n",
        "ax.scatter(y_test,y_pred_ridge,color='crimson')\n",
        "ax.plot([y_test.min(),y_test.max()], [y_test.min(),y_test.max()], 'k-', lw=3) # change line style to '-'\n",
        "ax.set_xlabel('Measured')\n",
        "ax.set_ylabel('Predicted')\n",
        "ax.set_title(\"[Ridge Regression] Target vs Prediction\")\n",
        "ax.set_xlim([y_test.min(), y_test.max()])\n",
        "ax.set_ylim([y_test.min(), y_test.max()])\n",
        "plt.show()"
      ],
      "metadata": {
        "id": "tR-T7NC42dNl",
        "colab": {
          "base_uri": "https://localhost:8080/",
          "height": 564
        },
        "outputId": "6612fcab-a592-4c1b-b4bc-87b8c90385e0"
      },
      "execution_count": null,
      "outputs": [
        {
          "output_type": "display_data",
          "data": {
            "text/plain": [
              "<Figure size 600x600 with 1 Axes>"
            ],
            "image/png": "[encoded data removed]"
          },
          "metadata": {}
        }
      ]
    },
    {
      "cell_type": "markdown",
      "source": [
        "# 5: Lasso Regression (L1 Regularization)"
      ],
      "metadata": {
        "id": "vu3xfHZn2eAW"
      }
    },
    {
      "cell_type": "code",
      "source": [
        "lasso = Lasso(alpha=1000.0)\n",
        "lasso.fit(X_train, y_train)\n",
        "y_pred_lasso = lasso.predict(x_test)"
      ],
      "metadata": {
        "id": "Kw0IJ4Kd2hqO"
      },
      "execution_count": null,
      "outputs": []
    },
    {
      "cell_type": "code",
      "source": [
        "residuals_lasso = y_test-y_pred_lasso\n",
        "squared_residuals_lasso = residuals_lasso**2\n",
        "ssr_lasso = np.sum(squared_residuals_lasso)\n",
        "print(\"\")\n",
        "print(\"Sum of Squared Residuals (SSR): \", ssr_lasso)"
      ],
      "metadata": {
        "id": "i6CJn4Hq2kQG",
        "colab": {
          "base_uri": "https://localhost:8080/"
        },
        "outputId": "8de468a1-ed8f-44bb-c239-7849c60119bf"
      },
      "execution_count": null,
      "outputs": [
        {
          "output_type": "stream",
          "name": "stdout",
          "text": [
            "\n",
            "Sum of Squared Residuals (SSR):  14919139307.901602\n"
          ]
        }
      ]
    },
    {
      "cell_type": "code",
      "source": [
        "headers = ['Feature', 'Weight']\n",
        "data = []\n",
        "for i in range(len(X_features)):\n",
        "    data.append([X_features[i], lasso.coef_[i]])\n",
        "\n",
        "table = tabulate(data, headers=headers, tablefmt='orgtbl')\n",
        "print(table)"
      ],
      "metadata": {
        "id": "VB8wvdX-20r4",
        "colab": {
          "base_uri": "https://localhost:8080/"
        },
        "outputId": "2c9bd93b-8de0-4a79-86d8-ac78c65ea127"
      },
      "execution_count": null,
      "outputs": [
        {
          "output_type": "stream",
          "name": "stdout",
          "text": [
            "| Feature   |   Weight |\n",
            "|-----------+----------|\n",
            "| age       |  2770.65 |\n",
            "| sex       |     0    |\n",
            "| bmi       |  1089.7  |\n",
            "| children  |     0    |\n",
            "| smoker    |  8513.4  |\n",
            "| region    |     0    |\n"
          ]
        }
      ]
    },
    {
      "cell_type": "code",
      "source": [
        "print(\"Intercept  : %.2f\" % lasso.intercept_)\n",
        "\n",
        "mse=mean_squared_error(y_test, y_pred_lasso)\n",
        "print(\"MSE        :\",mse)\n",
        "\n",
        "rsme=np.sqrt(mean_squared_error(y_test, y_pred_lasso))\n",
        "print(\"RSME       :\",rsme)\n",
        "\n",
        "print(\"R^2        : %.3f\"% r2_score(y_test, y_pred_lasso))"
      ],
      "metadata": {
        "id": "I55KPrHf22WY",
        "colab": {
          "base_uri": "https://localhost:8080/"
        },
        "outputId": "591c5ad3-6f69-4335-e5b5-6f847a9638df"
      },
      "execution_count": null,
      "outputs": [
        {
          "output_type": "stream",
          "name": "stdout",
          "text": [
            "Intercept  : 13327.39\n",
            "MSE        : 37112286.835576124\n",
            "RSME       : 6091.98545923873\n",
            "R^2        : 0.747\n"
          ]
        }
      ]
    },
    {
      "cell_type": "code",
      "source": [
        "y_pred_lasso = lasso.predict(x_test)\n",
        "fig,ax=plt.subplots(figsize=(6,6))\n",
        "ax.scatter(y_test,y_pred_lasso,color='aqua')\n",
        "ax.plot([y_test.min(),y_test.max()], [y_test.min(),y_test.max()], 'k-', lw=3) # change line style to '-'\n",
        "ax.set_xlabel('Measured')\n",
        "ax.set_ylabel('Predicted')\n",
        "ax.set_title(\"[Lasso Regression] Target vs Prediction\")\n",
        "ax.set_xlim([y_test.min(), y_test.max()])\n",
        "ax.set_ylim([y_test.min(), y_test.max()])\n",
        "plt.show()"
      ],
      "metadata": {
        "id": "CQfXtljY231Y",
        "colab": {
          "base_uri": "https://localhost:8080/",
          "height": 564
        },
        "outputId": "53d6324e-9d97-4e0a-9c38-ca5ee0d1b49b"
      },
      "execution_count": null,
      "outputs": [
        {
          "output_type": "display_data",
          "data": {
            "text/plain": [
              "<Figure size 600x600 with 1 Axes>"
            ],
            "image/png": "[encoded data removed]"
          },
          "metadata": {}
        }
      ]
    },
    {
      "cell_type": "markdown",
      "source": [
        "# 6: Decision Tree Regression"
      ],
      "metadata": {
        "id": "Exizh2yk6T3t"
      }
    },
    {
      "cell_type": "code",
      "source": [
        "Y_tree = df.iloc[1:, 6].values.reshape(-1, 1)\n",
        "x_train_tree, x_test_tree, y_train_tree, y_test_tree = train_test_split(X, Y_tree, test_size=.3, random_state=42)"
      ],
      "metadata": {
        "id": "XjkZP1oQrRTL"
      },
      "execution_count": null,
      "outputs": []
    },
    {
      "cell_type": "code",
      "source": [
        "class Node():\n",
        "    def __init__(self, feature_index=None, threshold=None, left=None, right=None, var_red=None, value=None):\n",
        "        ''' constructor ''' \n",
        "        \n",
        "        # for decision node\n",
        "        self.feature_index = feature_index\n",
        "        self.threshold = threshold\n",
        "        self.left = left\n",
        "        self.right = right\n",
        "        self.var_red = var_red\n",
        "        \n",
        "        # for leaf node\n",
        "        self.value = value"
      ],
      "metadata": {
        "id": "SKL0eB9q6b8S"
      },
      "execution_count": null,
      "outputs": []
    },
    {
      "cell_type": "markdown",
      "source": [
        "DecisionTreeRegressor Class"
      ],
      "metadata": {
        "id": "THMfxtL_bJLX"
      }
    },
    {
      "cell_type": "code",
      "source": [
        "class DecisionTreeRegressor():\n",
        "    def __init__(self, min_samples_split=2, max_depth=2):\n",
        "        ''' constructor '''\n",
        "        \n",
        "        # initialize the root of the tree \n",
        "        self.root = None\n",
        "        \n",
        "        # stopping conditions\n",
        "        self.min_samples_split = min_samples_split\n",
        "        self.max_depth = max_depth\n",
        "        \n",
        "    def build_tree(self, dataset, curr_depth=0):\n",
        "        ''' recursive function to build the tree '''\n",
        "        \n",
        "        num_samples, num_features = np.shape(X)\n",
        "        best_split = {}\n",
        "        # split until stopping conditions are met\n",
        "        if num_samples>=self.min_samples_split and curr_depth<=self.max_depth:\n",
        "            # find the best split\n",
        "            best_split = self.get_best_split(dataset, num_samples, num_features)\n",
        "            # check if information gain is positive\n",
        "            if best_split[\"var_red\"]>0:\n",
        "            #if best_split and \"var_red\" in best_split and best_split[\"var_red\"] > 0:\n",
        "                # recur left\n",
        "                left_subtree = self.build_tree(best_split[\"dataset_left\"], curr_depth+1)\n",
        "                # recur right\n",
        "                right_subtree = self.build_tree(best_split[\"dataset_right\"], curr_depth+1)\n",
        "                # return decision node\n",
        "                return Node(best_split[\"feature_index\"], best_split[\"threshold\"], \n",
        "                            left_subtree, right_subtree, best_split[\"var_red\"])\n",
        "        \n",
        "        # compute leaf node\n",
        "        leaf_value = self.calculate_leaf_value(dataset[:,-1])\n",
        "        # return leaf node\n",
        "        return Node(value=leaf_value)\n",
        "    \n",
        "    def get_best_split(self, dataset, num_samples, num_features):\n",
        "        ''' function to find the best split '''\n",
        "        \n",
        "        # dictionary to store the best split\n",
        "        best_split = {}\n",
        "        max_var_red = -float(\"inf\")\n",
        "        # loop over all the features\n",
        "        for feature_index in range(num_features):\n",
        "            feature_values = dataset[:, feature_index]\n",
        "            possible_thresholds = np.unique(feature_values)\n",
        "            # loop over all the feature values present in the data\n",
        "            for threshold in possible_thresholds:\n",
        "                # get current split\n",
        "                dataset_left, dataset_right = self.split(dataset, feature_index, threshold)\n",
        "                # check if childs are not null\n",
        "                if len(dataset_left)>0 and len(dataset_right)>0:\n",
        "                    y, left_y, right_y = dataset[:, -1], dataset_left[:, -1], dataset_right[:, -1]\n",
        "                    # compute information gain\n",
        "                    curr_var_red = self.variance_reduction(y, left_y, right_y)\n",
        "                    # update the best split if needed\n",
        "                    if curr_var_red>max_var_red:\n",
        "                        best_split[\"feature_index\"] = feature_index\n",
        "                        best_split[\"threshold\"] = threshold\n",
        "                        best_split[\"dataset_left\"] = dataset_left\n",
        "                        best_split[\"dataset_right\"] = dataset_right\n",
        "                        best_split[\"var_red\"] = curr_var_red\n",
        "                        max_var_red = curr_var_red\n",
        "                        \n",
        "        # return best split\n",
        "        return best_split\n",
        "    \n",
        "    def split(self, dataset, feature_index, threshold):\n",
        "        ''' function to split the data '''\n",
        "        \n",
        "        dataset_left = np.array([row for row in dataset if row[feature_index]<=threshold])\n",
        "        dataset_right = np.array([row for row in dataset if row[feature_index]>threshold])\n",
        "        return dataset_left, dataset_right\n",
        "    \n",
        "    def variance_reduction(self, parent, l_child, r_child):\n",
        "        ''' function to compute variance reduction '''\n",
        "        \n",
        "        weight_l = len(l_child) / len(parent)\n",
        "        weight_r = len(r_child) / len(parent)\n",
        "        reduction = np.var(parent) - (weight_l * np.var(l_child) + weight_r * np.var(r_child))\n",
        "\n",
        "        return reduction\n",
        "    \n",
        "    def calculate_leaf_value(self, Y_tree):\n",
        "        ''' function to compute leaf node '''\n",
        "        \n",
        "        val = np.mean(Y_tree)\n",
        "        return val\n",
        "                \n",
        "    def print_tree(self, tree=None, indent=\" \"):\n",
        "        ''' function to print the tree '''\n",
        "        \n",
        "        if not tree:\n",
        "            tree = self.root\n",
        "\n",
        "        if tree.value is not None:\n",
        "            print(tree.value)\n",
        "\n",
        "        else:\n",
        "            print(\"X_\"+str(tree.feature_index), \"<=\", tree.threshold, \"?\", tree.var_red)\n",
        "            print(\"%sleft:\" % (indent), end=\"\")\n",
        "            self.print_tree(tree.left, indent + indent)\n",
        "            print(\"%sright:\" % (indent), end=\"\")\n",
        "            self.print_tree(tree.right, indent + indent)\n",
        "    \n",
        "    def fit(self, X, Y_tree):\n",
        "        ''' function to train the tree '''\n",
        "        \n",
        "        dataset = np.concatenate((X, Y_tree), axis=1)\n",
        "        self.root = self.build_tree(dataset)\n",
        "        \n",
        "    def make_prediction(self, x, tree):\n",
        "        ''' function to predict new dataset '''\n",
        "        \n",
        "        if tree.value!=None: return tree.value\n",
        "        feature_val = x[tree.feature_index]\n",
        "        if feature_val<=tree.threshold:\n",
        "            return self.make_prediction(x, tree.left)\n",
        "        else:\n",
        "            return self.make_prediction(x, tree.right)\n",
        "    \n",
        "    def predict(self, X):\n",
        "        ''' function to predict a single data point '''\n",
        "        \n",
        "        preditions = [self.make_prediction(x, self.root) for x in X]\n",
        "\n",
        "        return preditions"
      ],
      "metadata": {
        "id": "M00N9ovI6fEB"
      },
      "execution_count": null,
      "outputs": []
    },
    {
      "cell_type": "code",
      "source": [
        "\n",
        "\n",
        "regressor = DecisionTreeRegressor(min_samples_split=4, max_depth=4)\n",
        "regressor.fit(x_train_tree,y_train_tree)\n",
        "regressor.print_tree()"
      ],
      "metadata": {
        "id": "AR255RbY6jUS",
        "colab": {
          "base_uri": "https://localhost:8080/"
        },
        "outputId": "7308d9f5-f063-41cb-dc46-ac50446cc511"
      },
      "execution_count": null,
      "outputs": [
        {
          "output_type": "stream",
          "name": "stdout",
          "text": [
            "X_4 <= -0.5074630991436532 ? 88880573.94470625\n",
            " left:X_0 <= 0.19886311501306964 ? 12363683.42513036\n",
            "  left:X_0 <= -1.2251606895761058 ? 1961858.4362664223\n",
            "    left:X_3 <= -0.9086136674186784 ? 1647343.858980842\n",
            "        left:X_5 <= 0.44051281721328645 ? 353432.2524446957\n",
            "                left:2055.4558834920635\n",
            "                right:3398.5837130434784\n",
            "        right:X_2 <= 0.2840599367351902 ? 3545316.642680362\n",
            "                left:4137.565276153846\n",
            "                right:8445.683674444444\n",
            "    right:X_3 <= -0.07876719164653397 ? 642489.7993203998\n",
            "        left:X_0 <= -0.22834402636368298 ? 693983.9508971721\n",
            "                left:5169.208416259542\n",
            "                right:7040.810546326531\n",
            "        right:X_5 <= 0.44051281721328645 ? 1820673.3120055944\n",
            "                left:6473.743879750001\n",
            "                right:9460.598283437499\n",
            "  right:X_0 <= 0.9108750173076573 ? 2945161.3607584313\n",
            "    left:X_0 <= 0.4836678759309047 ? 786594.6199445799\n",
            "        left:X_5 <= -0.464872973003883 ? 1192750.5713265464\n",
            "                left:8360.600315\n",
            "                right:10546.162496666666\n",
            "        right:X_2 <= -0.4648031150694698 ? 676152.2674361132\n",
            "                left:12597.948390384616\n",
            "                right:10783.73610796875\n",
            "    right:X_0 <= 1.33808215868441 ? 1723901.7562277168\n",
            "        left:X_3 <= 0.7510792841256105 ? 988797.9728827327\n",
            "                left:12530.020997555554\n",
            "                right:15443.432633571429\n",
            "        right:X_3 <= 1.580925759897755 ? 5879867.366000596\n",
            "                left:15300.522165733331\n",
            "                right:36580.28216\n",
            " right:X_2 <= -0.1211299291919752 ? 104645391.62869063\n",
            "  left:X_0 <= 0.05646073455415211 ? 11130138.02481877\n",
            "    left:X_2 <= -1.096374363579423 ? 2438849.2011232562\n",
            "        left:X_0 <= -1.4387642602644821 ? 1343323.3558097268\n",
            "                left:13652.4735\n",
            "                right:16830.98118\n",
            "        right:X_0 <= -1.4387642602644821 ? 1613599.041034827\n",
            "                left:17182.061031250003\n",
            "                right:20297.905629999994\n",
            "    right:X_2 <= -0.7896111857317312 ? 4181112.476363115\n",
            "        left:X_0 <= 0.27006430524252845 ? 4416223.130748334\n",
            "                left:20197.713016666665\n",
            "                right:24783.520901428572\n",
            "        right:X_2 <= -0.753521400102591 ? 6788419.5367140435\n",
            "                left:38245.59327\n",
            "                right:26871.091522941173\n",
            "  right:X_0 <= -0.8691547384288119 ? 15976529.75807868\n",
            "    left:X_2 <= 1.141192345427269 ? 3023061.9452063376\n",
            "        left:X_2 <= 0.17497035744710687 ? 721298.2882259032\n",
            "                left:34373.14845\n",
            "                right:36089.336476875\n",
            "        right:X_2 <= 1.8990778436392142 ? 996726.6830440018\n",
            "                left:38916.33643333333\n",
            "                right:40913.06043333334\n",
            "    right:X_0 <= 0.7684726368487398 ? 4127641.506808661\n",
            "        left:X_2 <= 0.7606091515199723 ? 3881819.292489115\n",
            "                left:41079.842625714286\n",
            "                right:45042.32319529412\n",
            "        right:X_2 <= 0.5818006681755965 ? 2095530.2126349378\n",
            "                left:45408.3440223077\n",
            "                right:48310.94735133333\n"
          ]
        }
      ]
    },
    {
      "cell_type": "code",
      "source": [
        "y_pred_tree = regressor.predict(x_test_tree) \n",
        "print(\"MSE  :\",mean_squared_error(y_test_tree, y_pred_tree))\n",
        "\n",
        "rmse_tree=np.sqrt(mean_squared_error(y_test_tree, y_pred_tree))\n",
        "print(\"RMSE :\",rmse_tree)\n",
        "\n",
        "print(\"R^2  :\", r2_score(y_test_tree, y_pred_tree))"
      ],
      "metadata": {
        "id": "xL3rd8EG6kmu",
        "colab": {
          "base_uri": "https://localhost:8080/"
        },
        "outputId": "e7684927-8cfe-428e-c90b-c61c3de183c6"
      },
      "execution_count": null,
      "outputs": [
        {
          "output_type": "stream",
          "name": "stdout",
          "text": [
            "MSE  : 20688516.91775201\n",
            "RMSE : 4548.463138000791\n",
            "R^2  : 0.8589011793822707\n"
          ]
        }
      ]
    },
    {
      "cell_type": "markdown",
      "source": [
        "# Model Tuning"
      ],
      "metadata": {
        "id": "loXyQdfEj9tT"
      }
    },
    {
      "cell_type": "code",
      "source": [
        "from sklearn.model_selection import GridSearchCV\n",
        "from sklearn.pipeline import make_pipeline\n",
        "\n",
        "# Define the hyperparameter grid\n",
        "param_grid = {\n",
        "    \"polynomialfeatures__degree\": [1, 2, 3]   # Degree of polynomial features\n",
        "}\n",
        "\n",
        "# Create the polynomial regression model\n",
        "poly_reg_model = PolynomialFeatures(include_bias=False)\n",
        "linear_reg = LinearRegression()\n",
        "poly_reg = make_pipeline(poly_reg_model, linear_reg)\n",
        "\n",
        "# Perform grid search\n",
        "grid_search = GridSearchCV(poly_reg, param_grid, scoring=\"neg_mean_squared_error\", cv=5)\n",
        "grid_search.fit(X_train, y_train)\n",
        "\n",
        "# Print the best hyperparameters and model performance\n",
        "print(\"Best Hyperparameters: \", grid_search.best_params_)\n",
        "print(\"Best Mean Squared Error: \", -grid_search.best_score_)\n",
        "\n",
        "# Get the best model\n",
        "best_model = grid_search.best_estimator_\n",
        "\n",
        "# Evaluate the best model on the test set\n",
        "best_model_y_predicted = best_model.predict(x_test)\n",
        "mse_best_model = mean_squared_error(y_test, best_model_y_predicted)\n",
        "r2_best_model = r2_score(y_test, best_model_y_predicted)\n",
        "print(\"Best Model Mean Squared Error: \", mse_best_model)\n",
        "print(\"Best Model R-squared score: \", r2_best_model)"
      ],
      "metadata": {
        "id": "XYurki2XkEHa",
        "colab": {
          "base_uri": "https://localhost:8080/"
        },
        "outputId": "30c9e9df-ee94-44d7-f5c5-e7ac788b1d1a"
      },
      "execution_count": null,
      "outputs": [
        {
          "output_type": "stream",
          "name": "stdout",
          "text": [
            "Best Hyperparameters:  {'polynomialfeatures__degree': 2}\n",
            "Best Mean Squared Error:  25548295.565348733\n",
            "Best Model Mean Squared Error:  20254790.631840795\n",
            "Best Model R-squared score:  0.861859197949784\n"
          ]
        }
      ]
    },
    {
      "cell_type": "code",
      "source": [
        "from sklearn.model_selection import GridSearchCV\n",
        "from sklearn.tree import DecisionTreeRegressor\n",
        "\n",
        "# Create an instance of the DecisionTreeRegressor\n",
        "regressor = DecisionTreeRegressor()\n",
        "\n",
        "# Define the parameter grid for tuning\n",
        "param_grid = {\n",
        "    'min_samples_split': [2, 4, 6],\n",
        "    'max_depth': [2, 4, 6]\n",
        "}\n",
        "\n",
        "# Create a GridSearchCV object\n",
        "grid_search = GridSearchCV(regressor, param_grid, scoring='r2')\n",
        "\n",
        "# Fit the grid search to the training data\n",
        "grid_search.fit(x_train_tree, y_train_tree)\n",
        "\n",
        "# Get the best hyperparameters\n",
        "best_params = grid_search.best_params_\n",
        "print(\"Best Hyperparameters:\", best_params)\n",
        "\n",
        "# Get the best model\n",
        "best_regressor = grid_search.best_estimator_\n",
        "\n",
        "# Predict on the test data using the best model\n",
        "y_pred_tree = best_regressor.predict(x_test_tree)\n",
        "\n",
        "# Evaluate the model\n",
        "mse = mean_squared_error(y_test_tree, y_pred_tree)\n",
        "rmse = np.sqrt(mse)\n",
        "r2 = r2_score(y_test_tree, y_pred_tree)\n",
        "\n",
        "print(\"MSE:\", mse)\n",
        "print(\"RMSE:\", rmse)\n",
        "print(\"R^2:\", r2)\n"
      ],
      "metadata": {
        "id": "uzmWvU8dtoQy",
        "colab": {
          "base_uri": "https://localhost:8080/"
        },
        "outputId": "a0e1a049-838c-4812-a4fe-01f42ce258a0"
      },
      "execution_count": null,
      "outputs": [
        {
          "output_type": "stream",
          "name": "stdout",
          "text": [
            "Best Hyperparameters: {'max_depth': 4, 'min_samples_split': 2}\n",
            "MSE: 20761771.412831414\n",
            "RMSE: 4556.508686794245\n",
            "R^2: 0.858401572624486\n"
          ]
        }
      ]
    },
    {
      "cell_type": "markdown",
      "source": [
        "The ideal hyperparameters for the polynomial regression model were found utilising a grid search hyperparameter tuning procedure.\n",
        "\n",
        "The most advantageous hyperparameter is 'polynomialfeatures__degree': 2.\n",
        "According to the mean squared error (MSE) metric, this indicates that the polynomial regression model with second-order polynomial features had the highest performance.\n",
        "\n",
        "Cross-validation during grid search produced the best mean squared error, which is 25,548,295.57. This metric computes the mean squared difference between the target variable's (medical cost) predicted and actual values. In terms of how well the predicted values match the actual values, a model's performance is greater when the mean squared error is lower.\n",
        "\n",
        "The mean squared error decreased to 20,254,790.63 after the best model was trained on the training set and evaluated on the test set, showing increased performance."
      ],
      "metadata": {
        "id": "IBKPLwkQlKb3"
      }
    },
    {
      "cell_type": "markdown",
      "source": [
        "# Conclusion"
      ],
      "metadata": {
        "id": "cEOtn-KGa2nu"
      }
    },
    {
      "cell_type": "markdown",
      "source": [
        "## **Model Selection** \n",
        "\n",
        "| Model                | Intercept | MSE        | RMSE       | R^2 Value  |\n",
        "|----------------------|-----------|------------|------------|------------|\n",
        "| Linear Regression    | 13328.08     | 34044238.904281944      | 5834.74411643578      | 0.768      |\n",
        "| SGD                  | 13339.78     | 34073663.32356362      | -      | 0.7676123507834883      |\n",
        "| Polynomial Regression | 13328.077228094735     | 34044238.904281944      | -      | 0.7678130298698987     |\n",
        "| Ridge Regression     | 13351.61     | 64584393.56759748      | 8036.441598593092      | 0.560      |\n",
        "| Lasso Regression     | 13327.39     | 37112286.      | 6091.98545923873      | 0.747      |\n",
        "| Decision Tree        | -         | 20688516.91775201      | 4548.463138000791      | 0.8589011793822707      |\n",
        "\n",
        "Based on the table above, **Decision Tree** model has given the best performance when we compare its MSE and R^2 value."
      ],
      "metadata": {
        "id": "tS5KV2xna7yc"
      }
    },
    {
      "cell_type": "markdown",
      "source": [
        "## **Evaluation Metrics**\n",
        "\n",
        "We have choosen **four** evaluation metrics in choosing the best model. \n",
        "\n",
        "<ol>\n",
        "\n",
        "  <li><strong>Intercept</strong>     \n",
        "   <ul>\n",
        "      <li>The intercept term also known as bias term in the regression equation represents the value of the dependent variable when all independent variables are zero. It provides insights into the baseline prediction or bias of the model. Based on our models, The value of of intercept between each models is not much differ. This value would be used during the model fitting process.</li>\n",
        "      </ul>\n",
        "  </li>\n",
        "\n",
        "  <li><strong>Mean Squared Error (MSE)</strong>   \n",
        "  <ul>\n",
        "      <li>MSE measures the average squared difference between the predicted and actual values. A lower MSE indicates a better fit to the data, with smaller errors on average. In our case after hyperparameter tuning, Decision Tree model has given the least MSE when compared to the other model. </li>\n",
        "     </ul>\n",
        "  </li>\n",
        "\n",
        "  <li><strong>Root Mean Squared Error (RMSE)</strong>\n",
        "     <ul>\n",
        "      <li>RMSE is the square root of MSE and provides a more interpretable measure of the error. It has the same unit as the dependent variable and represents the average magnitude of the residual errors. Like MSE, a lower RMSE indicates a better fit to the data.</li>\n",
        "     </ul>\n",
        "  </li>\n",
        "  \n",
        "  <li><strong>R^2 Value</strong>      \n",
        "  <ul>\n",
        "      <li>R^2 represents the proportion of the variance in the dependent variable that is explained by the independent variables. It measures the goodness of fit of the model. R^2 ranges from 0 to 1, with 1 indicating a perfect fit. A higher R^2 value suggests that the model can explain a larger portion of the variance in the data. In our case, all the models got below 0.80 for its R^2 value except for Decision Tree.This means that Decision Tree able to explain a larger portion of the variance in the data than the other models. Hence, after overall consideration, we have chosen Decision Tree as our model to proceed with hyperparameter tuning to enhance its performance. </li>\n",
        "     </ul>\n",
        "  </li>\n",
        "\n",
        "</ol>"
      ],
      "metadata": {
        "id": "dqshGHLX9j96"
      }
    },
    {
      "cell_type": "markdown",
      "source": [
        "## **Feature Importance**\n",
        "\n",
        "When analyzing **feature importance** during the model selection process, we gained insights into the relative importance or contribution of different features in predicting the target variable. This analysis helped to identify the most influential factors that significantly impact the model's predictions. We used two method to find significant featutes which is Kbest and ExtraTreesClassifier.\n",
        "\n",
        "<ul>\n",
        "   <li>\n",
        "      <p><strong>KBest</strong> method:</p>\n",
        "      <ul>\n",
        "         <li>\n",
        "            <p>Most important features:</p>\n",
        "            <ol>\n",
        "               <li>Age (Score: 6703.76): The feature with the highest score, indicating it has the strongest correlation or predictive power for the target variable. Age is considered the most influential factor in predicting the target.</li>\n",
        "               <li>Children (Score: 1752.14): This feature has the second-highest score, suggesting it is a significant predictor of the target variable. The number of children has a notable impact on the predictions made by the model.</li>\n",
        "               <li>BMI (Score: 1592.48): BMI (Body Mass Index) is the third most important feature according to the scores. It indicates that a person's BMI plays a meaningful role in predicting the target variable.</li>\n",
        "            </ol>\n",
        "         </li>\n",
        "         <li>\n",
        "            <p>Less important features:</p>\n",
        "            <ul>\n",
        "               <li>Smoker (Score: 1059.12): Although still relatively significant, the score suggests that being a smoker has less influence on the model's predictions compared to age, children, and BMI.</li>\n",
        "               <li>Region (Score: 1052.73): The region feature has a lower score compared to age, children, and BMI, implying that the geographical region of a person may have less impact on the predictions.</li>\n",
        "               <li>Sex (Score: 655.07): The sex feature has the lowest score among all the features, indicating it has the least influence on the model's predictions.</li>\n",
        "            </ul>\n",
        "         </li>\n",
        "      </ul>\n",
        "   </li>\n",
        "   <li>\n",
        "      <p><strong>ExtraTreesClassifier</strong> method:</p>\n",
        "      <ul>\n",
        "         <li>\n",
        "            Top 3 insignificant features:\n",
        "            <ol>\n",
        "               <li>Region: According to the ExtraTreesClassifier, the region feature is identified as the least significant for predicting the target variable. This suggests that the specific geographical region may not play a crucial role in determining the outcome.</li>\n",
        "               <li>Sex: The sex feature is considered relatively less important, implying that it has limited impact on the model's predictions. Other features may carry more weight in determining the target variable.</li>\n",
        "               <li>Smoker: Although still considered significant compared to region and sex, the ExtraTreesClassifier ranks the smoker feature as the third least influential in predicting the target variable.</li>\n",
        "            </ol>\n",
        "         </li>\n",
        "      </ul>\n",
        "   </li>\n",
        "</ul>\n",
        "\n",
        "In summary, the KBest method identifies age, children, and BMI as the most important features, while the ExtraTreesClassifier method highlights region, sex, and smoker as the top 3 least significant features."
      ],
      "metadata": {
        "id": "jOosJNH29oQI"
      }
    },
    {
      "cell_type": "markdown",
      "source": [
        "## **Limitations and future work**"
      ],
      "metadata": {
        "id": "iQs-xMe19qbC"
      }
    },
    {
      "cell_type": "markdown",
      "source": [
        "### **Limitations**\n",
        "\n",
        "<ul>\n",
        "\n",
        "  <li><strong>Location cannot be applied</strong>     \n",
        "   <ul>\n",
        "      <li>Our data is collected from United States(US). The distribution of data may not be representative of the distribution of data in other countries. This can lead to problems when the model is deployed in other countries. For example, a model that was trained on US-based data may not be able to accurately predict customer behavior in Southeast Asia.</li>\n",
        "     </ul>\n",
        "  </li>\n",
        "\n",
        "  <li><strong>Time frame of the data</strong>       \n",
        "   <ul>\n",
        "      <li>As the time frame of the data taken is unknown, in case it is outdated or does not cover a sufficiently long period, our model may not capture evolving trends, changes in customer behavior, or shifts in the insurance industry. This can lead to outdated predictions and suboptimal performance when applied to present or future scenarios.</li>\n",
        "     </ul>\n",
        "  </li>\n",
        "\n",
        "</ul>"
      ],
      "metadata": {
        "id": "SN2_trIRv6qL"
      }
    },
    {
      "cell_type": "markdown",
      "source": [
        "### **Future Work**\n",
        "- For future works, we can scale up our data studying and analyzing medical cost in other countries so this model can benefits larger group of people\n"
      ],
      "metadata": {
        "id": "LE-jskeB7PjE"
      }
    },
    {
      "cell_type": "code",
      "source": [],
      "metadata": {
        "id": "Zlx8bBFiZ7Jp"
      },
      "execution_count": null,
      "outputs": []
    }
  ]
}