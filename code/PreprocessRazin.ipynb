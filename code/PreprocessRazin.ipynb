{
  "cells": [
    {
      "attachments": {},
      "cell_type": "markdown",
      "metadata": {
        "id": "SDRN8ihmjUTQ"
      },
      "source": [
        "# Import Section"
      ]
    },
    {
      "cell_type": "code",
      "execution_count": null,
      "metadata": {
        "id": "DQ9Op_BrjM81"
      },
      "outputs": [],
      "source": [
        "import numpy as np\n",
        "import pandas as pd\n",
        "import matplotlib.pyplot as plt\n",
        "from sklearn.feature_selection import SelectKBest\n",
        "from sklearn.feature_selection import chi2\n",
        "from sklearn.ensemble import ExtraTreesClassifier\n",
        "from sklearn.linear_model import SGDRegressor\n",
        "from sklearn.preprocessing import StandardScaler\n",
        "from sklearn.linear_model import LinearRegression\n",
        "from sklearn.model_selection import train_test_split\n",
        "from sklearn.metrics import r2_score\n",
        "from sklearn.metrics import mean_squared_error\n",
        "from tabulate import tabulate\n",
        "from sklearn.preprocessing import PolynomialFeatures\n",
        "np.set_printoptions(precision=2)\n"
      ]
    },
    {
      "attachments": {},
      "cell_type": "markdown",
      "metadata": {
        "id": "sb3NWerEjZLj"
      },
      "source": [
        "# Dataset:Medical Cost Personal\n",
        "https://www.kaggle.com/datasets/mirichoi0218/insurance\n",
        "\n",
        "*   ***About Dataset***\n",
        "Context\n",
        "Machine Learning with R by Brett Lantz is a book that provides an introduction to machine learning using R. As far as I can tell, Packt Publishing does not make its datasets available online unless you buy the book and create a user account which can be a problem if you are checking the book out from the library or borrowing the book from a friend. All of these datasets are in the public domain but simply needed some cleaning up and recoding to match the format in the book.\n",
        "\n",
        "**age**: age of primary beneficiary\n",
        "\n",
        "**sex**: insurance contractor gender, female, male\n",
        "\n",
        "**bmi**: Body mass index, providing an understanding of body, weights that are relatively high or low relative to height,\n",
        "objective index of body weight (kg / m ^ 2) using the ratio of height to weight, ideally 18.5 to 24.9\n",
        "\n",
        "**children**: Number of children covered by health insurance / Number of dependents\n",
        "\n",
        "**smoker**: Smoking\n",
        "\n",
        "**region**: the beneficiary's residential area in the US, northeast, southeast, southwest, northwest.\n",
        "\n",
        "**charges**: Individual medical costs billed by health insurance\n",
        "\n",
        "\n"
      ]
    },
    {
      "cell_type": "code",
      "execution_count": null,
      "metadata": {
        "colab": {
          "base_uri": "https://localhost:8080/",
          "height": 423
        },
        "id": "kPM4nqWljj_h",
        "outputId": "8e4ce1bc-19b1-4a5a-ee50-16f067d148ea"
      },
      "outputs": [],
      "source": [
        "cols=[\"age\",\"sex\",\"bmi\",\"children\",\"smoker\",\"region\",\"charges\"]\n",
        "df = pd.read_csv(\"../datasets/insurance.csv\", names=cols)\n",
        "df.replace({'sex': {'male': 1, 'female': 0},\n",
        "            'smoker': {'yes': 1, 'no': 0},\n",
        "            'region': {'northeast': 3,'southeast': 2,'southwest': 1,'northwest': 0}\n",
        "           }, inplace=True)\n",
        "df.describe()\n",
        "df\n"
      ]
    },
    {
      "attachments": {},
      "cell_type": "markdown",
      "metadata": {
        "id": "46nNQ8c-lp7G"
      },
      "source": [
        "# Initialize X and Y columns"
      ]
    },
    {
      "cell_type": "code",
      "execution_count": null,
      "metadata": {
        "id": "WMhSNlqSlwww"
      },
      "outputs": [],
      "source": [
        "df.iloc[1:, 0:6] = df.iloc[1:, 0:6].astype(float)\n",
        "df.iloc[1:, 6] = df.iloc[1:, 6].astype(float)"
      ]
    },
    {
      "cell_type": "code",
      "execution_count": null,
      "metadata": {
        "id": "JEmTnHXQmcXe"
      },
      "outputs": [],
      "source": [
        "X_features = [\"age\", \"sex\", \"bmi\", \"children\", \"smoker\", \"region\"]\n",
        "x_i = df.iloc[1:, 0:6].values\n",
        "y_i = df.iloc[1:, 6].astype(int).values.reshape(-1, 1).ravel()  "
      ]
    },
    {
      "attachments": {},
      "cell_type": "markdown",
      "metadata": {
        "id": "TujCfa18mltA"
      },
      "source": [
        "# Feature Scaling\n",
        "*   Feature Scaling the data so the data will be normalized the range\n",
        "*   we do this because the range in each features is different\n",
        "\n",
        "\n"
      ]
    },
    {
      "cell_type": "code",
      "execution_count": null,
      "metadata": {
        "colab": {
          "base_uri": "https://localhost:8080/"
        },
        "id": "QSE_Jb-NmtwI",
        "outputId": "088e4f7e-f648-4750-f1b6-37fbc1d0556f"
      },
      "outputs": [],
      "source": [
        "scaler = StandardScaler()\n",
        "X = scaler.fit_transform(x_i)\n",
        "print(f\"Peak to Peak range by column in Raw        X:{np.ptp(x_i,axis=0)}\")   \n",
        "print(f\"Peak to Peak range by column in Normalized X:{np.ptp(X,axis=0)}\")\n",
        "\n",
        "Y = scaler.fit_transform(y_i)\n",
        "print(f\"Peak to Peak range by column in Raw        X:{np.ptp(y_i,axis=0)}\")   \n",
        "print(f\"Peak to Peak range by column in Normalized X:{np.ptp(Y,axis=0)}\")"
      ]
    },
    {
      "attachments": {},
      "cell_type": "markdown",
      "metadata": {
        "id": "ZtllTatWmxxU"
      },
      "source": [
        "# X_train,y_train,x_test,y_test"
      ]
    },
    {
      "cell_type": "code",
      "execution_count": null,
      "metadata": {
        "id": "ruRwSz97m1wY"
      },
      "outputs": [],
      "source": [
        "X_train, x_test, y_train, y_test = train_test_split(X,y_i, test_size=0.3, random_state=42)\n",
        "\n",
        "# X : input features\n",
        "# y_i : target variable of datasets ,what to predict"
      ]
    },
    {
      "attachments": {},
      "cell_type": "markdown",
      "metadata": {},
      "source": [
        "# Linear Regression"
      ]
    },
    {
      "cell_type": "code",
      "execution_count": null,
      "metadata": {},
      "outputs": [],
      "source": [
        "# import numpy as np\n",
        "\n",
        "# class LinearRegression:\n",
        "    \n",
        "#     def __init__(self, lr=0.001, n_iters=1000):\n",
        "#         self.lr=lr\n",
        "#         self.n_iters=n_iters\n",
        "#         self.weights= None\n",
        "#         self.bias = None\n",
        "\n",
        "#     # init weight=0 ,bias=0 #1 weight/feature\n",
        "#     def fit(self, X, y):\n",
        "#         n_samples, n_features = X.shape\n",
        "#         self.weights = np.zeros(n_features)\n",
        "#         self.bias = 0\n",
        "\n",
        "#         #update weight and bias : w=w-a.dw and b=b-a.db ;a is learning rate\n",
        "#         for _ in range(self.n_iters):\n",
        "#             y_pred = np.dot(X, self.weights) + self.bias # predict result using y=wx+b (in array)\n",
        "            \n",
        "#             dw = (1/n_samples)*np.dot(X, (y_pred-y))\n",
        "#             db = (1/n_samples)*np.sum(y_pred-y)\n",
        "\n",
        "#             #update w and b\n",
        "#             self.weight = self.weight - self.lr*dw\n",
        "#             self.bias = self.bias - self.lr*db\n",
        "\n",
        "#     def predict(self, X):\n",
        "#         y_pred = np.dot(X, self.weights) + self.bias\n",
        "#         return y_pred                "
      ]
    }
  ],
  "metadata": {
    "colab": {
      "provenance": []
    },
    "kernelspec": {
      "display_name": "Python 3",
      "name": "python3"
    },
    "language_info": {
      "codemirror_mode": {
        "name": "ipython",
        "version": 3
      },
      "file_extension": ".py",
      "mimetype": "text/x-python",
      "name": "python",
      "nbconvert_exporter": "python",
      "pygments_lexer": "ipython3",
      "version": "3.11.3"
    }
  },
  "nbformat": 4,
  "nbformat_minor": 0
}
