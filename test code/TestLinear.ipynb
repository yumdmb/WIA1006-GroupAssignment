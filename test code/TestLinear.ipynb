{
 "cells": [
  {
   "cell_type": "code",
   "execution_count": 1,
   "metadata": {},
   "outputs": [
    {
     "data": {
      "text/html": [
       "<div>\n",
       "<style scoped>\n",
       "    .dataframe tbody tr th:only-of-type {\n",
       "        vertical-align: middle;\n",
       "    }\n",
       "\n",
       "    .dataframe tbody tr th {\n",
       "        vertical-align: top;\n",
       "    }\n",
       "\n",
       "    .dataframe thead th {\n",
       "        text-align: right;\n",
       "    }\n",
       "</style>\n",
       "<table border=\"1\" class=\"dataframe\">\n",
       "  <thead>\n",
       "    <tr style=\"text-align: right;\">\n",
       "      <th></th>\n",
       "      <th>2104</th>\n",
       "      <th>3</th>\n",
       "      <th>399900</th>\n",
       "    </tr>\n",
       "  </thead>\n",
       "  <tbody>\n",
       "    <tr>\n",
       "      <th>0</th>\n",
       "      <td>1600</td>\n",
       "      <td>3</td>\n",
       "      <td>329900</td>\n",
       "    </tr>\n",
       "    <tr>\n",
       "      <th>1</th>\n",
       "      <td>2400</td>\n",
       "      <td>3</td>\n",
       "      <td>369000</td>\n",
       "    </tr>\n",
       "    <tr>\n",
       "      <th>2</th>\n",
       "      <td>1416</td>\n",
       "      <td>2</td>\n",
       "      <td>232000</td>\n",
       "    </tr>\n",
       "    <tr>\n",
       "      <th>3</th>\n",
       "      <td>3000</td>\n",
       "      <td>4</td>\n",
       "      <td>539900</td>\n",
       "    </tr>\n",
       "    <tr>\n",
       "      <th>4</th>\n",
       "      <td>1985</td>\n",
       "      <td>4</td>\n",
       "      <td>299900</td>\n",
       "    </tr>\n",
       "    <tr>\n",
       "      <th>5</th>\n",
       "      <td>1534</td>\n",
       "      <td>3</td>\n",
       "      <td>314900</td>\n",
       "    </tr>\n",
       "    <tr>\n",
       "      <th>6</th>\n",
       "      <td>1427</td>\n",
       "      <td>3</td>\n",
       "      <td>198999</td>\n",
       "    </tr>\n",
       "    <tr>\n",
       "      <th>7</th>\n",
       "      <td>1380</td>\n",
       "      <td>3</td>\n",
       "      <td>212000</td>\n",
       "    </tr>\n",
       "    <tr>\n",
       "      <th>8</th>\n",
       "      <td>1494</td>\n",
       "      <td>3</td>\n",
       "      <td>242500</td>\n",
       "    </tr>\n",
       "    <tr>\n",
       "      <th>9</th>\n",
       "      <td>1940</td>\n",
       "      <td>4</td>\n",
       "      <td>239999</td>\n",
       "    </tr>\n",
       "  </tbody>\n",
       "</table>\n",
       "</div>"
      ],
      "text/plain": [
       "   2104  3  399900\n",
       "0  1600  3  329900\n",
       "1  2400  3  369000\n",
       "2  1416  2  232000\n",
       "3  3000  4  539900\n",
       "4  1985  4  299900\n",
       "5  1534  3  314900\n",
       "6  1427  3  198999\n",
       "7  1380  3  212000\n",
       "8  1494  3  242500\n",
       "9  1940  4  239999"
      ]
     },
     "execution_count": 1,
     "metadata": {},
     "output_type": "execute_result"
    }
   ],
   "source": [
    "# Imoprting required libraries.\n",
    "import numpy as np\n",
    "import matplotlib.pyplot as plt\n",
    "import pandas as pd\n",
    "# Reading the csv file.\n",
    "df = pd.read_csv('../test_datasets/house_price_data.csv')\n",
    "# Displayinng the first five elements of the dataframe.\n",
    "df.head(10)"
   ]
  },
  {
   "cell_type": "code",
   "execution_count": null,
   "metadata": {},
   "outputs": [],
   "source": [
    "# Taking the Hours and Scores column of the dataframe as X and y \n",
    "# respectively and coverting them to numpy arrays.\n",
    "X = np.array(df['Hours']).reshape(-1,1)\n",
    "y = np.array(df['Scores'])\n",
    "# Plotting the data X(Hours) on x-axis and y(Scores) on y-axis\n",
    "plt.figure(figsize=(8,6)) # figure size\n",
    "plt.scatter(X, y)\n",
    "plt.title('Hours vs Scores')\n",
    "plt.xlabel('X (Input) : Hours')\n",
    "plt.ylabel('y (Target) : Scores')"
   ]
  },
  {
   "cell_type": "code",
   "execution_count": null,
   "metadata": {},
   "outputs": [],
   "source": [
    "y_hat = np.dot(X, weights) + bias"
   ]
  },
  {
   "attachments": {},
   "cell_type": "markdown",
   "metadata": {},
   "source": [
    "#### Loss Function"
   ]
  },
  {
   "cell_type": "code",
   "execution_count": null,
   "metadata": {},
   "outputs": [],
   "source": [
    "loss = np.mean((y_hat - y)**2)"
   ]
  },
  {
   "attachments": {},
   "cell_type": "markdown",
   "metadata": {},
   "source": [
    "#### Gradient Descent Algorithm"
   ]
  },
  {
   "cell_type": "code",
   "execution_count": null,
   "metadata": {},
   "outputs": [],
   "source": [
    "# Initializing weights as a matrix of zeros of size: (number of \n",
    "# features: n, 1) and bias as 0\n",
    "weights = np.zeros((n,1))\n",
    "bias = 0\n",
    "\n",
    "# Updating the parameters: parameter := parameter - lr*(derivative \n",
    "# of loss/cost w.r.t parameter)\n",
    "weights -= lr*dw\n",
    "bias -= lr*db\n",
    "dw = (1/m)*np.dot(X.T, (y_hat - y))\n",
    "db = (1/m)*np.sum((y_hat - y))"
   ]
  },
  {
   "attachments": {},
   "cell_type": "markdown",
   "metadata": {},
   "source": [
    "#### Linear Regression Class"
   ]
  },
  {
   "cell_type": "code",
   "execution_count": null,
   "metadata": {},
   "outputs": [],
   "source": [
    "# Linear Regression class\n",
    "class LinReg:\n",
    "    \n",
    "    # Initializing lr: learning rate, epochs: no. of iterations, \n",
    "    # weights & bias: parameters as None\n",
    "    # default lr: 0.01, epochs: 800\n",
    "    def __init__(self, lr=0.01, epochs=800):\n",
    "        self.lr = lr\n",
    "        self.epochs = epochs\n",
    "        self.weights = None\n",
    "        self.bias = None\n",
    "    # Training function: fit\n",
    "    def fit(self, X, y):\n",
    "        # shape of X: (number of training examples: m, number of    \n",
    "        # features: n)\n",
    "        m, n = X.shape    \n",
    "    \n",
    "        # Initializing weights as a matrix of zeros of size: (number\n",
    "        # of features: n, 1) and bias as 0\n",
    "        self.weights = np.zeros((n,1))\n",
    "        self.bias = 0\n",
    "        \n",
    "        # reshaping y as (m,1) in case your dataset initialized as \n",
    "        # (m,) which can cause problems\n",
    "        y = y.reshape(m,1)\n",
    "        \n",
    "        # empty lsit to store losses so we can plot them later \n",
    "        # against epochs\n",
    "        losses = []\n",
    "        \n",
    "        # Gradient Descent loop/ Training loop\n",
    "        for epoch in range(self.epochs):\n",
    "        \n",
    "            # Calculating prediction: y_hat or h(x)\n",
    "            y_hat = np.dot(X, self.weights) + self.bias\n",
    "     \n",
    "            # Calculting loss\n",
    "            loss = np.mean((y_hat - y)**2)\n",
    "    \n",
    "            # Appending loss in list: losses\n",
    "            losses.append(loss)\n",
    "    \n",
    "            # Calculating derivatives of parameters(weights, and \n",
    "            # bias) \n",
    "            dw = (1/m)*np.dot(X.T, (y_hat - y))\n",
    "            db = (1/m)*np.sum((y_hat - y))\n",
    "   # Updating the parameters: parameter := parameter - lr*derivative\n",
    "   # of loss/cost w.r.t parameter)\n",
    "            self.weights -= self.lr*dw\n",
    "            self.bias -= self.lr*db\n",
    "        \n",
    "        # returning the parameter so we can look at them later\n",
    "        return self.weights, self.bias, losses\n",
    "    # Predicting(calculating y_hat with our updated weights) for the \n",
    "    # testing/validation     \n",
    "    def predict(self, X):\n",
    "        return np.dot(X, self.weights) + self.bias"
   ]
  },
  {
   "attachments": {},
   "cell_type": "markdown",
   "metadata": {},
   "source": [
    "#### Training"
   ]
  },
  {
   "cell_type": "code",
   "execution_count": null,
   "metadata": {},
   "outputs": [],
   "source": [
    "X_train, X_test, y_train, y_test = X[:20], X[20:], y[:20], y[20:]\n",
    "model = LinReg(epochs=100)\n",
    "w, b, l = model.fit(X_train,y_train)"
   ]
  },
  {
   "attachments": {},
   "cell_type": "markdown",
   "metadata": {},
   "source": [
    "#### Plotting results"
   ]
  },
  {
   "cell_type": "code",
   "execution_count": null,
   "metadata": {},
   "outputs": [],
   "source": [
    "# Plotting our predictions.\n",
    "fig = plt.figure(figsize=(8,6))\n",
    "plt.scatter(X, y)\n",
    "plt.plot(X, model.predict(X))  # X and predictions.\n",
    "plt.title('Hours vs Percentage')\n",
    "plt.xlabel('X (Input) : Hours')\n",
    "plt.ylabel('y (Target) : Scores')"
   ]
  },
  {
   "cell_type": "code",
   "execution_count": null,
   "metadata": {},
   "outputs": [],
   "source": [
    "# Predicting on the test set.\n",
    "X_test_preds = model.predict(X_test)\n",
    "X_test_preds\n",
    ">> array([[28.05459243],\n",
    "       [48.44728266],\n",
    "       [38.73647779],\n",
    "       [68.83997288],\n",
    "       [77.57969726]])"
   ]
  },
  {
   "attachments": {},
   "cell_type": "markdown",
   "metadata": {},
   "source": [
    "#### Comparing True values to predictions by the model"
   ]
  },
  {
   "cell_type": "code",
   "execution_count": null,
   "metadata": {},
   "outputs": [],
   "source": [
    "# Comparing True values to our predictions.\n",
    "Compare_df = pd.DataFrame({'Actual':y_test,Predicted':X_test_preds})\n",
    "Compare_df"
   ]
  },
  {
   "attachments": {},
   "cell_type": "markdown",
   "metadata": {},
   "source": [
    "#### Loss vs epochs (number of iterations"
   ]
  },
  {
   "cell_type": "code",
   "execution_count": null,
   "metadata": {},
   "outputs": [],
   "source": [
    "fig = plt.figure(figsize=(8,6))\n",
    "plt.plot([i for i in range(100)], l, 'r-')\n",
    "plt.xlabel('Number of iterations')\n",
    "plt.ylabel('Loss / Cost')"
   ]
  }
 ],
 "metadata": {
  "kernelspec": {
   "display_name": ".venv",
   "language": "python",
   "name": "python3"
  },
  "language_info": {
   "codemirror_mode": {
    "name": "ipython",
    "version": 3
   },
   "file_extension": ".py",
   "mimetype": "text/x-python",
   "name": "python",
   "nbconvert_exporter": "python",
   "pygments_lexer": "ipython3",
   "version": "3.11.3"
  },
  "orig_nbformat": 4
 },
 "nbformat": 4,
 "nbformat_minor": 2
}
